{
 "cells": [
  {
   "cell_type": "markdown",
   "id": "e294f056",
   "metadata": {},
   "source": [
    "## Tutorial 1: First steps\n",
    "\n",
    "Welcome to this tutorial.\n",
    "\n",
    "# Importing libraries\n",
    "\n",
    "Let's start by importing some libraries. If you have installed meltPT correctly, this should work!"
   ]
  },
  {
   "cell_type": "code",
   "execution_count": 1,
   "id": "dcc85f9d",
   "metadata": {
    "scrolled": true
   },
   "outputs": [],
   "source": [
    "from meltPT import *\n",
    "import pyMelt as m\n",
    "import matplotlib.pyplot as plt"
   ]
  },
  {
   "cell_type": "markdown",
   "id": "8b680095",
   "metadata": {},
   "source": [
    "# Reading data and initialising the Suite object\n",
    "\n",
    "Start by importing data from your csv. In this case our data are stored in a file called \"PF16_UT09DV04.csv\". To keep this example simple, the input infile contains a single sample, UT09DV04, from Plank & Forsyth (2016)."
   ]
  },
  {
   "cell_type": "code",
   "execution_count": 2,
   "id": "a5673eef",
   "metadata": {},
   "outputs": [],
   "source": [
    "s = Suite(\"PF16_UT09DV04.csv\", src_FeIII_totFe=0.17)"
   ]
  },
  {
   "cell_type": "markdown",
   "id": "a0c325d6",
   "metadata": {},
   "source": [
    "You have now created an instance of meltPT's Suite class, containing the sample data. Data are stored in a pandas dataframe, which you can preview by typing:"
   ]
  },
  {
   "cell_type": "code",
   "execution_count": 3,
   "id": "bcbe807b",
   "metadata": {},
   "outputs": [
    {
     "name": "stdout",
     "output_type": "stream",
     "text": [
      "  Volc Field       Vent tephra/lava/MI      Sample       IGSN  Latitude  \\\n",
      "0       SCVF  Diamond V      tephra/MI  UT-09 DV04  TAP00001C   37.2571   \n",
      "\n",
      "   Longitude       SiO2      TiO2      Al2O3  ...    U     Cr2O3  CO2  \\\n",
      "0  -113.6243  47.859824  1.866207  15.354245  ...  1.6  0.030856  0.0   \n",
      "\n",
      "      Fe2O3  src_FeIII_totFe       NiO  CoO  Co  FeO_tot  Total  \n",
      "0  2.104445             0.17  0.021263  0.0   0    11.28  100.0  \n",
      "\n",
      "[1 rows x 49 columns]\n"
     ]
    }
   ],
   "source": [
    "print(s.data)"
   ]
  },
  {
   "cell_type": "markdown",
   "id": "abffaf8d",
   "metadata": {},
   "source": [
    "# Backtrack compositions\n",
    "\n",
    "The next step is backtracking the sample's composition. The aim here is to account for the effects of fractional crystallisation of olivine and estimate the sample's \"primary\" composition: i.e., its composition when it last equilibrated with the mantle. To do so, use the Suite's backtrack_compositions method. Here we have set the verbose flag to True, so program will print updates at each interation."
   ]
  },
  {
   "cell_type": "code",
   "execution_count": 4,
   "id": "0d42c441",
   "metadata": {},
   "outputs": [
    {
     "name": "stdout",
     "output_type": "stream",
     "text": [
      "Backtracking sample UT-09 DV04 to primary composition:\n",
      "    - 0.05% olivine added, melt Fo = 0.8498.\n",
      "    - 0.10% olivine added, melt Fo = 0.8501.\n",
      "    - 0.15% olivine added, melt Fo = 0.8503.\n",
      "    - 0.20% olivine added, melt Fo = 0.8505.\n",
      "    - 0.25% olivine added, melt Fo = 0.8507.\n",
      "    - 0.30% olivine added, melt Fo = 0.8510.\n",
      "    - 0.35% olivine added, melt Fo = 0.8512.\n",
      "    - 0.40% olivine added, melt Fo = 0.8514.\n",
      "    - 0.45% olivine added, melt Fo = 0.8517.\n",
      "    - 0.50% olivine added, melt Fo = 0.8519.\n",
      "    - 0.55% olivine added, melt Fo = 0.8521.\n",
      "    - 0.60% olivine added, melt Fo = 0.8523.\n",
      "    - 0.65% olivine added, melt Fo = 0.8526.\n",
      "    - 0.70% olivine added, melt Fo = 0.8528.\n",
      "    - 0.74% olivine added, melt Fo = 0.8530.\n",
      "    - 0.79% olivine added, melt Fo = 0.8532.\n",
      "    - 0.84% olivine added, melt Fo = 0.8535.\n",
      "    - 0.89% olivine added, melt Fo = 0.8537.\n",
      "    - 0.94% olivine added, melt Fo = 0.8539.\n",
      "    - 0.99% olivine added, melt Fo = 0.8541.\n",
      "    - 1.04% olivine added, melt Fo = 0.8543.\n",
      "    - 1.09% olivine added, melt Fo = 0.8546.\n",
      "    - 1.14% olivine added, melt Fo = 0.8548.\n",
      "    - 1.19% olivine added, melt Fo = 0.8550.\n",
      "    - 1.23% olivine added, melt Fo = 0.8552.\n",
      "    - 1.28% olivine added, melt Fo = 0.8554.\n",
      "    - 1.33% olivine added, melt Fo = 0.8556.\n",
      "    - 1.38% olivine added, melt Fo = 0.8558.\n",
      "    - 1.43% olivine added, melt Fo = 0.8561.\n",
      "    - 1.48% olivine added, melt Fo = 0.8563.\n",
      "    - 1.53% olivine added, melt Fo = 0.8565.\n",
      "    - 1.57% olivine added, melt Fo = 0.8567.\n",
      "    - 1.62% olivine added, melt Fo = 0.8569.\n",
      "    - 1.67% olivine added, melt Fo = 0.8571.\n",
      "    - 1.72% olivine added, melt Fo = 0.8573.\n",
      "    - 1.77% olivine added, melt Fo = 0.8575.\n",
      "    - 1.82% olivine added, melt Fo = 0.8578.\n",
      "    - 1.86% olivine added, melt Fo = 0.8580.\n",
      "    - 1.91% olivine added, melt Fo = 0.8582.\n",
      "    - 1.96% olivine added, melt Fo = 0.8584.\n",
      "    - 2.01% olivine added, melt Fo = 0.8586.\n",
      "    - 2.06% olivine added, melt Fo = 0.8588.\n",
      "    - 2.10% olivine added, melt Fo = 0.8590.\n",
      "    - 2.15% olivine added, melt Fo = 0.8592.\n",
      "    - 2.20% olivine added, melt Fo = 0.8594.\n",
      "    - 2.25% olivine added, melt Fo = 0.8596.\n",
      "    - 2.30% olivine added, melt Fo = 0.8598.\n",
      "    - 2.34% olivine added, melt Fo = 0.8600.\n",
      "    - 2.39% olivine added, melt Fo = 0.8602.\n",
      "    - 2.44% olivine added, melt Fo = 0.8604.\n",
      "    - 2.49% olivine added, melt Fo = 0.8606.\n",
      "    - 2.53% olivine added, melt Fo = 0.8608.\n",
      "    - 2.58% olivine added, melt Fo = 0.8610.\n",
      "    - 2.63% olivine added, melt Fo = 0.8612.\n",
      "    - 2.68% olivine added, melt Fo = 0.8614.\n",
      "    - 2.72% olivine added, melt Fo = 0.8616.\n",
      "    - 2.77% olivine added, melt Fo = 0.8618.\n",
      "    - 2.82% olivine added, melt Fo = 0.8620.\n",
      "    - 2.87% olivine added, melt Fo = 0.8622.\n",
      "    - 2.91% olivine added, melt Fo = 0.8624.\n",
      "    - 2.96% olivine added, melt Fo = 0.8626.\n",
      "    - 3.01% olivine added, melt Fo = 0.8628.\n",
      "    - 3.05% olivine added, melt Fo = 0.8630.\n",
      "    - 3.10% olivine added, melt Fo = 0.8632.\n",
      "    - 3.15% olivine added, melt Fo = 0.8634.\n",
      "    - 3.19% olivine added, melt Fo = 0.8636.\n",
      "    - 3.24% olivine added, melt Fo = 0.8638.\n",
      "    - 3.29% olivine added, melt Fo = 0.8640.\n",
      "    - 3.33% olivine added, melt Fo = 0.8642.\n",
      "    - 3.38% olivine added, melt Fo = 0.8643.\n",
      "    - 3.43% olivine added, melt Fo = 0.8645.\n",
      "    - 3.47% olivine added, melt Fo = 0.8647.\n",
      "    - 3.52% olivine added, melt Fo = 0.8649.\n",
      "    - 3.57% olivine added, melt Fo = 0.8651.\n",
      "    - 3.61% olivine added, melt Fo = 0.8653.\n",
      "    - 3.66% olivine added, melt Fo = 0.8655.\n",
      "    - 3.71% olivine added, melt Fo = 0.8657.\n",
      "    - 3.75% olivine added, melt Fo = 0.8659.\n",
      "    - 3.80% olivine added, melt Fo = 0.8660.\n",
      "    - 3.85% olivine added, melt Fo = 0.8662.\n",
      "    - 3.89% olivine added, melt Fo = 0.8664.\n",
      "    - 3.94% olivine added, melt Fo = 0.8666.\n",
      "    - 3.98% olivine added, melt Fo = 0.8668.\n",
      "    - 4.03% olivine added, melt Fo = 0.8670.\n",
      "    - 4.08% olivine added, melt Fo = 0.8671.\n",
      "    - 4.12% olivine added, melt Fo = 0.8673.\n",
      "    - 4.17% olivine added, melt Fo = 0.8675.\n",
      "    - 4.21% olivine added, melt Fo = 0.8677.\n",
      "    - 4.26% olivine added, melt Fo = 0.8679.\n",
      "    - 4.31% olivine added, melt Fo = 0.8681.\n",
      "    - 4.35% olivine added, melt Fo = 0.8682.\n",
      "    - 4.40% olivine added, melt Fo = 0.8684.\n",
      "    - 4.44% olivine added, melt Fo = 0.8686.\n",
      "    - 4.49% olivine added, melt Fo = 0.8688.\n",
      "    - 4.53% olivine added, melt Fo = 0.8690.\n",
      "    - 4.58% olivine added, melt Fo = 0.8691.\n",
      "    - 4.63% olivine added, melt Fo = 0.8693.\n",
      "    - 4.67% olivine added, melt Fo = 0.8695.\n",
      "    - 4.72% olivine added, melt Fo = 0.8697.\n",
      "    - 4.76% olivine added, melt Fo = 0.8698.\n",
      "    - 4.81% olivine added, melt Fo = 0.8700.\n",
      "    - 4.85% olivine added, melt Fo = 0.8702.\n",
      "    - 4.90% olivine added, melt Fo = 0.8704.\n",
      "    - 4.94% olivine added, melt Fo = 0.8705.\n",
      "    - 4.99% olivine added, melt Fo = 0.8707.\n",
      "    - 5.03% olivine added, melt Fo = 0.8709.\n",
      "    - 5.08% olivine added, melt Fo = 0.8711.\n",
      "    - 5.12% olivine added, melt Fo = 0.8712.\n",
      "    - 5.17% olivine added, melt Fo = 0.8714.\n",
      "    - 5.21% olivine added, melt Fo = 0.8716.\n",
      "    - 5.26% olivine added, melt Fo = 0.8717.\n",
      "    - 5.30% olivine added, melt Fo = 0.8719.\n",
      "    - 5.35% olivine added, melt Fo = 0.8721.\n",
      "    - 5.39% olivine added, melt Fo = 0.8723.\n",
      "    - 5.44% olivine added, melt Fo = 0.8724.\n",
      "    - 5.48% olivine added, melt Fo = 0.8726.\n",
      "    - 5.53% olivine added, melt Fo = 0.8728.\n",
      "    - 5.57% olivine added, melt Fo = 0.8729.\n",
      "    - 5.62% olivine added, melt Fo = 0.8731.\n",
      "    - 5.66% olivine added, melt Fo = 0.8733.\n",
      "    - 5.70% olivine added, melt Fo = 0.8734.\n",
      "    - 5.75% olivine added, melt Fo = 0.8736.\n",
      "    - 5.79% olivine added, melt Fo = 0.8738.\n",
      "    - 5.84% olivine added, melt Fo = 0.8739.\n",
      "    - 5.88% olivine added, melt Fo = 0.8741.\n",
      "    - 5.93% olivine added, melt Fo = 0.8743.\n",
      "    - 5.97% olivine added, melt Fo = 0.8744.\n",
      "    - 6.02% olivine added, melt Fo = 0.8746.\n",
      "    - 6.06% olivine added, melt Fo = 0.8748.\n",
      "    - 6.10% olivine added, melt Fo = 0.8749.\n",
      "    - 6.15% olivine added, melt Fo = 0.8751.\n",
      "    - 6.19% olivine added, melt Fo = 0.8753.\n",
      "    - 6.24% olivine added, melt Fo = 0.8754.\n",
      "    - 6.28% olivine added, melt Fo = 0.8756.\n",
      "    - 6.32% olivine added, melt Fo = 0.8757.\n",
      "    - 6.37% olivine added, melt Fo = 0.8759.\n",
      "    - 6.41% olivine added, melt Fo = 0.8761.\n",
      "    - 6.45% olivine added, melt Fo = 0.8762.\n",
      "    - 6.50% olivine added, melt Fo = 0.8764.\n",
      "    - 6.54% olivine added, melt Fo = 0.8765.\n",
      "    - 6.59% olivine added, melt Fo = 0.8767.\n",
      "    - 6.63% olivine added, melt Fo = 0.8769.\n",
      "    - 6.67% olivine added, melt Fo = 0.8770.\n",
      "    - 6.72% olivine added, melt Fo = 0.8772.\n",
      "    - 6.76% olivine added, melt Fo = 0.8773.\n",
      "    - 6.80% olivine added, melt Fo = 0.8775.\n",
      "    - 6.85% olivine added, melt Fo = 0.8776.\n",
      "    - 6.89% olivine added, melt Fo = 0.8778.\n",
      "    - 6.93% olivine added, melt Fo = 0.8780.\n",
      "    - 6.98% olivine added, melt Fo = 0.8781.\n",
      "    - 7.02% olivine added, melt Fo = 0.8783.\n",
      "    - 7.06% olivine added, melt Fo = 0.8784.\n",
      "    - 7.11% olivine added, melt Fo = 0.8786.\n",
      "    - 7.15% olivine added, melt Fo = 0.8787.\n",
      "    - 7.19% olivine added, melt Fo = 0.8789.\n",
      "    - 7.24% olivine added, melt Fo = 0.8790.\n",
      "    - 7.28% olivine added, melt Fo = 0.8792.\n",
      "    - 7.32% olivine added, melt Fo = 0.8793.\n",
      "    - 7.36% olivine added, melt Fo = 0.8795.\n",
      "    - 7.41% olivine added, melt Fo = 0.8796.\n",
      "    - 7.45% olivine added, melt Fo = 0.8798.\n",
      "    - 7.49% olivine added, melt Fo = 0.8799.\n",
      "    - 7.54% olivine added, melt Fo = 0.8801.\n",
      "    - 7.58% olivine added, melt Fo = 0.8802.\n",
      "    - 7.62% olivine added, melt Fo = 0.8804.\n",
      "    - 7.66% olivine added, melt Fo = 0.8805.\n",
      "    - 7.71% olivine added, melt Fo = 0.8807.\n",
      "    - 7.75% olivine added, melt Fo = 0.8808.\n",
      "    - 7.79% olivine added, melt Fo = 0.8810.\n",
      "    - 7.83% olivine added, melt Fo = 0.8811.\n",
      "    - 7.88% olivine added, melt Fo = 0.8813.\n",
      "    - 7.92% olivine added, melt Fo = 0.8814.\n",
      "    - 7.96% olivine added, melt Fo = 0.8816.\n",
      "    - 8.00% olivine added, melt Fo = 0.8817.\n",
      "    - 8.05% olivine added, melt Fo = 0.8819.\n",
      "    - 8.09% olivine added, melt Fo = 0.8820.\n",
      "    - 8.13% olivine added, melt Fo = 0.8822.\n",
      "    - 8.17% olivine added, melt Fo = 0.8823.\n",
      "    - 8.21% olivine added, melt Fo = 0.8825.\n",
      "    - 8.26% olivine added, melt Fo = 0.8826.\n",
      "    - 8.30% olivine added, melt Fo = 0.8827.\n",
      "    - 8.34% olivine added, melt Fo = 0.8829.\n",
      "    - 8.38% olivine added, melt Fo = 0.8830.\n",
      "    - 8.42% olivine added, melt Fo = 0.8832.\n",
      "    - 8.47% olivine added, melt Fo = 0.8833.\n",
      "    - 8.51% olivine added, melt Fo = 0.8835.\n",
      "    - 8.55% olivine added, melt Fo = 0.8836.\n",
      "    - 8.59% olivine added, melt Fo = 0.8838.\n",
      "    - 8.63% olivine added, melt Fo = 0.8839.\n",
      "    - 8.68% olivine added, melt Fo = 0.8840.\n",
      "    - 8.72% olivine added, melt Fo = 0.8842.\n",
      "    - 8.76% olivine added, melt Fo = 0.8843.\n",
      "    - 8.80% olivine added, melt Fo = 0.8845.\n",
      "    - 8.84% olivine added, melt Fo = 0.8846.\n",
      "    - 8.88% olivine added, melt Fo = 0.8847.\n",
      "    - 8.93% olivine added, melt Fo = 0.8849.\n",
      "    - 8.97% olivine added, melt Fo = 0.8850.\n",
      "    - 9.01% olivine added, melt Fo = 0.8852.\n",
      "    - 9.05% olivine added, melt Fo = 0.8853.\n",
      "    - 9.09% olivine added, melt Fo = 0.8854.\n",
      "    - 9.13% olivine added, melt Fo = 0.8856.\n",
      "    - 9.17% olivine added, melt Fo = 0.8857.\n",
      "    - 9.21% olivine added, melt Fo = 0.8858.\n",
      "    - 9.26% olivine added, melt Fo = 0.8860.\n",
      "    - 9.30% olivine added, melt Fo = 0.8861.\n",
      "    - 9.34% olivine added, melt Fo = 0.8863.\n",
      "    - 9.38% olivine added, melt Fo = 0.8864.\n",
      "    - 9.42% olivine added, melt Fo = 0.8865.\n",
      "    - 9.46% olivine added, melt Fo = 0.8867.\n",
      "    - 9.50% olivine added, melt Fo = 0.8868.\n",
      "    - 9.54% olivine added, melt Fo = 0.8869.\n",
      "    - 9.58% olivine added, melt Fo = 0.8871.\n",
      "    - 9.62% olivine added, melt Fo = 0.8872.\n",
      "    - 9.67% olivine added, melt Fo = 0.8873.\n",
      "    - 9.71% olivine added, melt Fo = 0.8875.\n",
      "    - 9.75% olivine added, melt Fo = 0.8876.\n",
      "    - 9.79% olivine added, melt Fo = 0.8877.\n",
      "    - 9.83% olivine added, melt Fo = 0.8879.\n",
      "    - 9.87% olivine added, melt Fo = 0.8880.\n",
      "    - 9.91% olivine added, melt Fo = 0.8881.\n",
      "    - 9.95% olivine added, melt Fo = 0.8883.\n",
      "    - 9.99% olivine added, melt Fo = 0.8884.\n",
      "    - 10.03% olivine added, melt Fo = 0.8885.\n",
      "    - 10.07% olivine added, melt Fo = 0.8887.\n",
      "    - 10.11% olivine added, melt Fo = 0.8888.\n",
      "    - 10.15% olivine added, melt Fo = 0.8889.\n",
      "    - 10.19% olivine added, melt Fo = 0.8890.\n",
      "    - 10.23% olivine added, melt Fo = 0.8892.\n",
      "    - 10.27% olivine added, melt Fo = 0.8893.\n",
      "    - 10.31% olivine added, melt Fo = 0.8894.\n",
      "    - 10.35% olivine added, melt Fo = 0.8896.\n",
      "    - 10.39% olivine added, melt Fo = 0.8897.\n",
      "    - 10.43% olivine added, melt Fo = 0.8898.\n",
      "    - 10.47% olivine added, melt Fo = 0.8900.\n",
      "    - 10.51% olivine added, melt Fo = 0.8901.\n",
      "    - 10.55% olivine added, melt Fo = 0.8902.\n",
      "    - 10.59% olivine added, melt Fo = 0.8903.\n",
      "    - 10.63% olivine added, melt Fo = 0.8905.\n",
      "    - 10.67% olivine added, melt Fo = 0.8906.\n",
      "    - 10.71% olivine added, melt Fo = 0.8907.\n",
      "    - 10.75% olivine added, melt Fo = 0.8908.\n",
      "    - 10.79% olivine added, melt Fo = 0.8910.\n",
      "    - 10.83% olivine added, melt Fo = 0.8911.\n",
      "    - 10.87% olivine added, melt Fo = 0.8912.\n",
      "    - 10.91% olivine added, melt Fo = 0.8913.\n",
      "    - 10.95% olivine added, melt Fo = 0.8915.\n",
      "    - 10.99% olivine added, melt Fo = 0.8916.\n",
      "    - 11.03% olivine added, melt Fo = 0.8917.\n",
      "    - 11.07% olivine added, melt Fo = 0.8918.\n",
      "    - 11.11% olivine added, melt Fo = 0.8920.\n",
      "    - 11.15% olivine added, melt Fo = 0.8921.\n",
      "    - 11.19% olivine added, melt Fo = 0.8922.\n",
      "    - 11.23% olivine added, melt Fo = 0.8923.\n",
      "    - 11.27% olivine added, melt Fo = 0.8925.\n",
      "    - 11.31% olivine added, melt Fo = 0.8926.\n",
      "    - 11.35% olivine added, melt Fo = 0.8927.\n",
      "    - 11.39% olivine added, melt Fo = 0.8928.\n",
      "    - 11.43% olivine added, melt Fo = 0.8929.\n",
      "    - 11.47% olivine added, melt Fo = 0.8931.\n",
      "    - 11.50% olivine added, melt Fo = 0.8932.\n",
      "    - 11.54% olivine added, melt Fo = 0.8933.\n",
      "    - 11.58% olivine added, melt Fo = 0.8934.\n",
      "    - 11.62% olivine added, melt Fo = 0.8936.\n",
      "    - 11.66% olivine added, melt Fo = 0.8937.\n",
      "    - 11.70% olivine added, melt Fo = 0.8938.\n",
      "    - 11.74% olivine added, melt Fo = 0.8939.\n",
      "    - 11.78% olivine added, melt Fo = 0.8940.\n",
      "    - 11.82% olivine added, melt Fo = 0.8941.\n",
      "    - 11.86% olivine added, melt Fo = 0.8943.\n",
      "    - 11.89% olivine added, melt Fo = 0.8944.\n",
      "    - 11.93% olivine added, melt Fo = 0.8945.\n",
      "    - 11.97% olivine added, melt Fo = 0.8946.\n",
      "    - 12.01% olivine added, melt Fo = 0.8947.\n",
      "    - 12.05% olivine added, melt Fo = 0.8949.\n",
      "    - 12.09% olivine added, melt Fo = 0.8950.\n",
      "    - 12.13% olivine added, melt Fo = 0.8951.\n",
      "    - 12.17% olivine added, melt Fo = 0.8952.\n",
      "    - 12.20% olivine added, melt Fo = 0.8953.\n",
      "    - 12.24% olivine added, melt Fo = 0.8954.\n",
      "    - 12.28% olivine added, melt Fo = 0.8956.\n",
      "    - 12.32% olivine added, melt Fo = 0.8957.\n",
      "    - 12.36% olivine added, melt Fo = 0.8958.\n",
      "    - 12.40% olivine added, melt Fo = 0.8959.\n",
      "    - 12.43% olivine added, melt Fo = 0.8960.\n",
      "    - 12.47% olivine added, melt Fo = 0.8961.\n",
      "    - 12.51% olivine added, melt Fo = 0.8963.\n",
      "    - 12.55% olivine added, melt Fo = 0.8964.\n",
      "    - 12.59% olivine added, melt Fo = 0.8965.\n",
      "    - 12.63% olivine added, melt Fo = 0.8966.\n",
      "    - 12.66% olivine added, melt Fo = 0.8967.\n",
      "    - 12.70% olivine added, melt Fo = 0.8968.\n",
      "    - 12.74% olivine added, melt Fo = 0.8969.\n",
      "    - 12.78% olivine added, melt Fo = 0.8970.\n",
      "    - 12.82% olivine added, melt Fo = 0.8972.\n",
      "    - 12.85% olivine added, melt Fo = 0.8973.\n",
      "    - 12.89% olivine added, melt Fo = 0.8974.\n",
      "    - 12.93% olivine added, melt Fo = 0.8975.\n",
      "    - 12.97% olivine added, melt Fo = 0.8976.\n",
      "    - 13.01% olivine added, melt Fo = 0.8977.\n",
      "    - 13.04% olivine added, melt Fo = 0.8978.\n",
      "    - 13.08% olivine added, melt Fo = 0.8979.\n",
      "    - 13.12% olivine added, melt Fo = 0.8981.\n",
      "    - 13.16% olivine added, melt Fo = 0.8982.\n",
      "    - 13.19% olivine added, melt Fo = 0.8983.\n",
      "    - 13.23% olivine added, melt Fo = 0.8984.\n",
      "    - 13.27% olivine added, melt Fo = 0.8985.\n",
      "    - 13.31% olivine added, melt Fo = 0.8986.\n",
      "    - 13.34% olivine added, melt Fo = 0.8987.\n",
      "    - 13.38% olivine added, melt Fo = 0.8988.\n",
      "    - 13.42% olivine added, melt Fo = 0.8989.\n",
      "    - 13.46% olivine added, melt Fo = 0.8990.\n",
      "    - 13.49% olivine added, melt Fo = 0.8992.\n",
      "    - 13.53% olivine added, melt Fo = 0.8993.\n",
      "    - 13.57% olivine added, melt Fo = 0.8994.\n",
      "    - 13.61% olivine added, melt Fo = 0.8995.\n",
      "    - 13.64% olivine added, melt Fo = 0.8996.\n",
      "    - 13.68% olivine added, melt Fo = 0.8997.\n",
      "    - 13.72% olivine added, melt Fo = 0.8998.\n"
     ]
    }
   ],
   "source": [
    "s.backtrack_compositions(Kd=0.3, verbose=True, target_Fo=0.9)"
   ]
  },
  {
   "cell_type": "markdown",
   "id": "f76a88ae",
   "metadata": {},
   "source": [
    "As you can see, the sample started with a Forsterite number of c. 0.85. The program then added olivine in equilibrium with the melt, until, after adding c. 14% olivine, it reached a Forsterite number of 90%, which we assumed for the mantle source."
   ]
  },
  {
   "cell_type": "markdown",
   "id": "b9010fe2",
   "metadata": {},
   "source": [
    "You have now created a new dataframe within the suite class containing the sample's primary composition:"
   ]
  },
  {
   "cell_type": "code",
   "execution_count": 5,
   "id": "f1927f11",
   "metadata": {},
   "outputs": [
    {
     "name": "stdout",
     "output_type": "stream",
     "text": [
      "   Al2O3_primary_wt  CO2_primary_wt  CaO_primary_wt  CoO_primary_wt  \\\n",
      "0          13.04399             0.0        7.381808             0.0   \n",
      "\n",
      "   Cr2O3_primary_wt  Fe2O3_primary_wt  FeO_primary_wt  H2O_primary_wt  \\\n",
      "0          0.026213          1.787802        9.582235        1.174379   \n",
      "\n",
      "   K2O_primary_wt  MgO_primary_wt  MnO_primary_wt  Na2O_primary_wt  \\\n",
      "0        0.939503       14.481565        0.150992         2.885616   \n",
      "\n",
      "   NiO_primary_wt  P2O5_primary_wt  SiO2_primary_wt  TiO2_primary_wt  ol_added  \n",
      "0        0.018064         0.331319        46.611103         1.585411  0.137187  \n"
     ]
    }
   ],
   "source": [
    "print(s.primary)"
   ]
  },
  {
   "cell_type": "markdown",
   "id": "bd10a847",
   "metadata": {},
   "source": [
    "# Compute pressures & temperatures\n",
    "\n",
    "Now we can calculate pressures and temperatures at which the sample was last in equilibrium with the mantle. Use Suite's compute_pressure_temperature method:"
   ]
  },
  {
   "cell_type": "code",
   "execution_count": 6,
   "id": "05ab977b",
   "metadata": {},
   "outputs": [],
   "source": [
    "s.compute_pressure_temperature(method=\"PF16\")"
   ]
  },
  {
   "cell_type": "markdown",
   "id": "e415346e",
   "metadata": {},
   "source": [
    "The results are stored in a new dataframe:"
   ]
  },
  {
   "cell_type": "code",
   "execution_count": 7,
   "id": "f9bb3349",
   "metadata": {},
   "outputs": [
    {
     "name": "stdout",
     "output_type": "stream",
     "text": [
      "          P  P_err            T  T_err\n",
      "0  2.069814   0.24  1370.081696   39.0\n"
     ]
    }
   ],
   "source": [
    "print(s.PT)"
   ]
  },
  {
   "cell_type": "markdown",
   "id": "c17df0c8",
   "metadata": {},
   "source": [
    "The calculated pressure of 2.07 GPa and temperature of 1370 oC are the same as those from Plank & Forsyth (2016, their Table S8), which is good!\n"
   ]
  },
  {
   "cell_type": "markdown",
   "id": "56891de0",
   "metadata": {},
   "source": [
    "# Fit a melting path\n",
    "\n",
    "Next we would like to link our estimate equilibration pressure and temperature to a model geotherm. In meltPT, we make use of the pyMelt package to compute adiabatic decompression melting paths. For this example we use pyMelt's implientation of Katz et al.'s (2003) lherzolite melting model to set up the mantle object."
   ]
  },
  {
   "cell_type": "code",
   "execution_count": 8,
   "id": "af2a9673",
   "metadata": {},
   "outputs": [],
   "source": [
    "lz = m.lithologies.katz.lherzolite()\n",
    "mantle = m.mantle([lz], [1], ['Lz'])"
   ]
  },
  {
   "cell_type": "markdown",
   "id": "c29532a2",
   "metadata": {},
   "source": [
    "We can now pass our mantle object to Suite's find_individual_potential_temperatures method. This will take a few seconds!"
   ]
  },
  {
   "cell_type": "code",
   "execution_count": 9,
   "id": "48488a3b",
   "metadata": {},
   "outputs": [],
   "source": [
    "s.find_individual_potential_temperatures(mantle)"
   ]
  },
  {
   "cell_type": "markdown",
   "id": "4cbabfba",
   "metadata": {},
   "source": [
    "This will create a new dataframe, called individual_potential_temperatures which contains information about the result and a copy of the best-fitting pyMelt path object:"
   ]
  },
  {
   "cell_type": "code",
   "execution_count": 10,
   "id": "552f9b3f",
   "metadata": {},
   "outputs": [
    {
     "name": "stdout",
     "output_type": "stream",
     "text": [
      "          F         P            T           Tp    misfit  \\\n",
      "0  0.035586  2.069811  1370.081749  1346.617603  0.000011   \n",
      "\n",
      "                                                path  \n",
      "0  <pyMelt.meltingcolumn_classes.meltingColumn ob...  \n"
     ]
    }
   ],
   "source": [
    "print(s.individual_potential_temperatures)"
   ]
  },
  {
   "cell_type": "markdown",
   "id": "a20e0c3d",
   "metadata": {},
   "source": [
    "# Plotting\n",
    "\n",
    "Now let's make a nice plot of our result!"
   ]
  },
  {
   "cell_type": "code",
   "execution_count": 13,
   "id": "3b36d022",
   "metadata": {},
   "outputs": [
    {
     "data": {
      "image/png": "[encoded data removed]",
      "text/plain": [
       "<Figure size 720x432 with 1 Axes>"
      ]
     },
     "metadata": {
      "needs_background": "light"
     },
     "output_type": "display_data"
    }
   ],
   "source": [
    "# Initialise\n",
    "plt.figure(figsize=(10,6))\n",
    "\n",
    "# Set up pressure array.\n",
    "P = np.arange(1., 3., 0.01)\n",
    "\n",
    "# Plot the solidus.\n",
    "plt.plot(lz.TSolidus(P), P, c=\"0.75\", label=\"Solidus\")\n",
    "\n",
    "# Plot an adiabat corresponding to the best-fitting potential temperature\n",
    "adiabat_label = r\"Adiabat: $T_p$ = %i $^{\\circ}$C\" % s.individual_potential_temperatures.iloc[0]['Tp']\n",
    "plt.plot(\n",
    "    mantle.adiabat(\n",
    "        P, \n",
    "        s.individual_potential_temperatures.iloc[0]['Tp']), \n",
    "    P, \":\", label=adiabat_label)\n",
    "    \n",
    "# Plot melt path corresponding to best-fitting potential temperature\n",
    "melt_label = r\"Melting path: $T_p$ = %i $^{\\circ}$C\" % s.individual_potential_temperatures.iloc[0]['Tp']\n",
    "plt.plot(\n",
    "    s.individual_potential_temperatures.iloc[0].path.T, \n",
    "    s.individual_potential_temperatures.iloc[0].path.P,\n",
    "    label=melt_label)\n",
    "    \n",
    "# Plot our sample!\n",
    "sample_label = r\"UT09DV04, $F$ = %.2f%%\" % (s.individual_potential_temperatures.iloc[0]['F']*100.)\n",
    "plt.plot(s.PT['T'], s.PT['P'], \"o\", label=sample_label)\n",
    "\n",
    "# Do some formatting and reveal\n",
    "plt.xlabel(r\"Temperature [$^{\\circ}$C]\")\n",
    "plt.ylabel(r\"Pressure [GPa]\")\n",
    "plt.xlim(1300., 1440.)\n",
    "plt.ylim(1., 3.)\n",
    "plt.legend()\n",
    "plt.gca().invert_yaxis()\n",
    "plt.show()"
   ]
  }
 ],
 "metadata": {
  "kernelspec": {
   "display_name": "Python 3 (ipykernel)",
   "language": "python",
   "name": "python3"
  },
  "language_info": {
   "codemirror_mode": {
    "name": "ipython",
    "version": 3
   },
   "file_extension": ".py",
   "mimetype": "text/x-python",
   "name": "python",
   "nbconvert_exporter": "python",
   "pygments_lexer": "ipython3",
   "version": "3.8.10"
  }
 },
 "nbformat": 4,
 "nbformat_minor": 5
}
