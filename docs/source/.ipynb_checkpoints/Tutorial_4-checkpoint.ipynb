{
 "cells": [
  {
   "cell_type": "markdown",
   "id": "64e1ae90",
   "metadata": {},
   "source": [
    "# Tutorial 4: Benchmarking\n",
    "\n",
    "In this tutorial, we will use each thermobarometer in turn to estimate pressure and temperature for an example sample used in the original publication. This tutorial is a check to make sure they are coded up correctly! Small deviations, e.g., 1-2 $^{\\text{o}}$C, may result from rounding differences between implementations."
   ]
  },
  {
   "cell_type": "markdown",
   "id": "af451657",
   "metadata": {},
   "source": [
    "## Import Code"
   ]
  },
  {
   "cell_type": "code",
   "execution_count": 2,
   "id": "56ee5835",
   "metadata": {},
   "outputs": [],
   "source": [
    "from meltPT import *\n",
    "import pyMelt as m\n",
    "import matplotlib.pyplot as plt\n",
    "import sys"
   ]
  },
  {
   "cell_type": "markdown",
   "id": "d4bc8a72",
   "metadata": {},
   "source": [
    "## Thermometers\n",
    "\n",
    "B93, P07_2, and P07_4 can only be used as thermometers.  TGK12, G13, SD20, BK21 can also be used in this way. To calculate temperature, use the 'compute_temperature'function with the desired pressure in GPa, e.g., for pressure = 0.8 GPa: s.compute_temperature(P=0.8)."
   ]
  },
  {
   "cell_type": "markdown",
   "id": "57dc93bf",
   "metadata": {},
   "source": [
    "### Beattie, 1993 (B93)\n",
    "\n",
    "Comparing to result from the following website https://csm.fresnostate.edu/ees/faculty-staff/putirka.html hosted spreadsheet - Olivine and Glass thermobarometers accessed 02 Aug 2022. Result for Experiment H195 (Kinzler and Grove, 1992) - Column AW."
   ]
  },
  {
   "cell_type": "code",
   "execution_count": 3,
   "id": "c5b770cd",
   "metadata": {},
   "outputs": [
    {
     "name": "stdout",
     "output_type": "stream",
     "text": [
      "B93 Documented Result:            P = 1.30 GPa, T = 1469 oC.\n",
      "Our result at 1.30 GPa:           P = 1.30 GPa, T = 1469 oC.\n",
      "\n",
      "-----------------------------------------------------------\n"
     ]
    },
    {
     "name": "stderr",
     "output_type": "stream",
     "text": [
      "/Users/patrickball/opt/anaconda3/lib/python3.9/site-packages/meltPT/parse.py:98: UserWarning: Some sample's H2O still zero after parameterization with Ce.\n",
      "  warnings.warn(message)\n"
     ]
    }
   ],
   "source": [
    "s1 = Suite(\"Data/KG92.csv\", read_as_primary=True)\n",
    "s1.compute_temperature(method=\"B93\", P=1.3)\n",
    "\n",
    "print(\"B93 Documented Result:            P = 1.30 GPa, T = 1469 oC.\")\n",
    "print(\"Our result at 1.30 GPa:           P = %.2f GPa, T = %i oC.\" % \n",
    "    (s1.PT['P'][0], round(s1.PT['T'][0])))\n",
    "print()\n",
    "print(\"-----------------------------------------------------------\")"
   ]
  },
  {
   "cell_type": "markdown",
   "id": "8542c2ae",
   "metadata": {},
   "source": [
    "### Putirka et al, 2007 Equation 2 (P07_2)\n",
    "\n",
    "Comparing to result from the following website https://csm.fresnostate.edu/ees/faculty-staff/putirka.html hosted spreadsheet - Olivine and Glass thermobarometers accessed 02 Aug 2022. Result for Experiment H195 (Kinzler and Grove, 1992) - Column AX. Spreadsheet originally calculates using measured DMg (Column DQ).  Instead, we substitute DMg from Beattie, (1993) (Column DK). We also normalise columns G-R to 100 wt% prior to calculation."
   ]
  },
  {
   "cell_type": "code",
   "execution_count": 4,
   "id": "666d054e",
   "metadata": {},
   "outputs": [
    {
     "name": "stdout",
     "output_type": "stream",
     "text": [
      "P07_2 Documented Result:          P = 1.30 GPa, T = 1490 oC.\n",
      "Our result at 1.30 GPa:           P = 1.30 GPa, T = 1489 oC.\n",
      "\n",
      "-----------------------------------------------------------\n"
     ]
    },
    {
     "name": "stderr",
     "output_type": "stream",
     "text": [
      "/Users/patrickball/opt/anaconda3/lib/python3.9/site-packages/meltPT/parse.py:98: UserWarning: Some sample's H2O still zero after parameterization with Ce.\n",
      "  warnings.warn(message)\n"
     ]
    }
   ],
   "source": [
    "s2 = Suite(\"Data/KG92.csv\", read_as_primary=True)\n",
    "s2.compute_temperature(method=\"P07_2\", P=1.3)\n",
    "print(\"P07_2 Documented Result:          P = 1.30 GPa, T = 1490 oC.\")\n",
    "print(\"Our result at 1.30 GPa:           P = %.2f GPa, T = %i oC.\" % \n",
    "    (s2.PT['P'][0], round(s2.PT['T'][0])))\n",
    "print()\n",
    "print(\"-----------------------------------------------------------\")"
   ]
  },
  {
   "cell_type": "markdown",
   "id": "b33b24b1",
   "metadata": {},
   "source": [
    "### Putirka et al, 2007 Equation 4 (P07_4)\n",
    "\n",
    "Comparing to result from the following website https://csm.fresnostate.edu/ees/faculty-staff/putirka.html hosted spreadsheet - Olivine and Glass thermobarometers accessed 02 Aug 2022. Result for Experiment H195 (Kinzler and Grove, 1992). Spreadsheet originally calculates using measured DMg (Column AT). Instead, we substitute DMg from Beattie, (1993) (Column AU)."
   ]
  },
  {
   "cell_type": "code",
   "execution_count": 5,
   "id": "6ca92789",
   "metadata": {
    "scrolled": false
   },
   "outputs": [
    {
     "name": "stdout",
     "output_type": "stream",
     "text": [
      "P07_4 Documented Result:          P = 1.30 GPa, T = 1444 oC.\n",
      "Our result at 1.30 GPa:           P = 1.30 GPa, T = 1443 oC.\n",
      "\n",
      "-----------------------------------------------------------\n"
     ]
    },
    {
     "name": "stderr",
     "output_type": "stream",
     "text": [
      "/Users/patrickball/opt/anaconda3/lib/python3.9/site-packages/meltPT/parse.py:98: UserWarning: Some sample's H2O still zero after parameterization with Ce.\n",
      "  warnings.warn(message)\n"
     ]
    }
   ],
   "source": [
    "s3 = Suite(\"Data/KG92.csv\", read_as_primary=True)\n",
    "s3.compute_temperature(method=\"P07_4\", P=1.3)\n",
    "print(\"P07_4 Documented Result:          P = 1.30 GPa, T = 1444 oC.\")\n",
    "print(\"Our result at 1.30 GPa:           P = %.2f GPa, T = %i oC.\" % \n",
    "    (s3.PT['P'][0], round(s3.PT['T'][0])))\n",
    "print()\n",
    "print(\"-----------------------------------------------------------\")"
   ]
  },
  {
   "cell_type": "markdown",
   "id": "29d9ff95",
   "metadata": {},
   "source": [
    "### Herzberg & Asimow, 2015 (HA15)\n",
    "\n",
    "Comparing to result in Supplementary Iformation 1 of Herzberg & Asimow, (2015) for Mkea in MEGAPRIMELT3."
   ]
  },
  {
   "cell_type": "code",
   "execution_count": 6,
   "id": "94edea8a",
   "metadata": {},
   "outputs": [
    {
     "name": "stdout",
     "output_type": "stream",
     "text": [
      "HA15 Documented Result:           P = 0.00 GPa, T = 1431 oC.\n",
      "Our result at 0 GPa:              P = 0.00 GPa, T = 1431 oC.\n",
      "\n",
      "-----------------------------------------------------------\n"
     ]
    },
    {
     "name": "stderr",
     "output_type": "stream",
     "text": [
      "/Users/patrickball/opt/anaconda3/lib/python3.9/site-packages/meltPT/parse.py:98: UserWarning: Some sample's H2O still zero after parameterization with Ce.\n",
      "  warnings.warn(message)\n"
     ]
    }
   ],
   "source": [
    "s10 = Suite(\"Data/HA15_MEGAPRIMELT3.csv\", read_as_primary=True)\n",
    "s10.compute_temperature(method=\"HA15\", P=0.)\n",
    "print(\"HA15 Documented Result:           P = 0.00 GPa, T = 1431 oC.\")\n",
    "print(\"Our result at 0 GPa:              P = %.2f GPa, T = %i oC.\" % \n",
    "    (s10.PT['P'][0], round(s10.PT['T'][0])))\n",
    "print()\n",
    "print(\"-----------------------------------------------------------\")"
   ]
  },
  {
   "cell_type": "markdown",
   "id": "3edc06a0",
   "metadata": {},
   "source": [
    "## Using Thermobarometers\n",
    "\n",
    "Here, we estimate pressure and temperature in the same manner as the previous tutorials."
   ]
  },
  {
   "cell_type": "markdown",
   "id": "acc3d870",
   "metadata": {},
   "source": [
    "### Lee et al, 2009 (L09)\n",
    "\n",
    "Comparing to result for Sample s190 (The first sample in the spreadsheet attached to Lee et al., 2009). Comparing to answers from Lee et al., 2009)is a chance to also check the backtracking works correctly, unfortunately it does not. We think this is due to a mistake in the spreadsheet attached to Lee et al., (2009). In their spreadsheet, they mistakenly do not update Kd after each iteration (C-T Lee pers comm.). If we keep Kd fixed, or use the output primary composition from the spreadsheet, we can replicate their results."
   ]
  },
  {
   "cell_type": "code",
   "execution_count": 7,
   "id": "048ab2f0",
   "metadata": {},
   "outputs": [
    {
     "name": "stdout",
     "output_type": "stream",
     "text": [
      "L09 Documented Result             P = 2.39 GPa, T = 1503 oC.\n",
      "Our result (Kd=0.32167):          P = 2.39 GPa, T = 1503 oC.\n",
      "Our result (variable Kd):         P = 2.84 GPa, T = 1544 oC.\n",
      "\n",
      "We believe our variable Kd result to be correct and it\n",
      "should come out as:               P = 2.84 GPa, T = 1544 oC.\n",
      "\n",
      "-----------------------------------------------------------\n"
     ]
    },
    {
     "name": "stderr",
     "output_type": "stream",
     "text": [
      "/Users/patrickball/opt/anaconda3/lib/python3.9/site-packages/meltPT/parse.py:98: UserWarning: Some sample's H2O still zero after parameterization with Ce.\n",
      "  warnings.warn(message)\n",
      "/Users/patrickball/opt/anaconda3/lib/python3.9/site-packages/meltPT/parse.py:98: UserWarning: Some sample's H2O still zero after parameterization with Ce.\n",
      "  warnings.warn(message)\n"
     ]
    }
   ],
   "source": [
    "s4 = Suite(\"Data/L09_s190.csv\", src_FeIII_totFe=0.05, Ce_to_H2O=200.)\n",
    "s4.backtrack_compositions(target_Fo=0.9, dm=0.005, Kd=0.32166722315513757, verbose=False)\n",
    "s4.compute_pressure_temperature(method=\"L09\")\n",
    "s4a = Suite(\"Data/L09_s190.csv\", src_FeIII_totFe=0.05, Ce_to_H2O=200.)\n",
    "s4a.backtrack_compositions(target_Fo=0.9, dm=0.005, verbose=False)\n",
    "s4a.compute_pressure_temperature(method=\"L09\")\n",
    "print(\"L09 Documented Result             P = 2.39 GPa, T = 1503 oC.\")\n",
    "print(\"Our result (Kd=0.32167):          P = %.2f GPa, T = %i oC.\" %\n",
    "    (s4.PT['P'], round(s4.PT['T'])))\n",
    "print(\"Our result (variable Kd):         P = %.2f GPa, T = %i oC.\" % \n",
    "    (s4a.PT['P'], round(s4a.PT['T'])))\n",
    "print()\n",
    "print(\"We believe our variable Kd result to be correct and it\")\n",
    "print(\"should come out as:               P = 2.84 GPa, T = 1544 oC.\")\n",
    "print()\n",
    "print(\"-----------------------------------------------------------\")"
   ]
  },
  {
   "cell_type": "markdown",
   "id": "83c2e32e",
   "metadata": {},
   "source": [
    "### Till et al, 2012 (TGK12_SPL)\n",
    "\n",
    "Comparing to result for Reykjanes in Table 6 of Till et al., (2012)."
   ]
  },
  {
   "cell_type": "code",
   "execution_count": 8,
   "id": "00a232ee",
   "metadata": {},
   "outputs": [
    {
     "name": "stdout",
     "output_type": "stream",
     "text": [
      "TGK12 Documented Result:          P = 1.16 GPa, T = 1316 oC.\n",
      "Our result:                       P = 1.16 GPa, T = 1316 oC.\n",
      "\n",
      "-----------------------------------------------------------\n"
     ]
    }
   ],
   "source": [
    "s8 = Suite(\"Data/TGK12_T6.csv\", read_as_primary=True)\n",
    "s8.compute_pressure_temperature(method=\"TGK12_SPL\")\n",
    "print(\"TGK12 Documented Result:          P = 1.16 GPa, T = 1316 oC.\")\n",
    "print(\"Our result:                       P = %.2f GPa, T = %i oC.\" % \n",
    "    (s8.PT['P'][0], round(s8.PT['T'][0])))\n",
    "print()\n",
    "print(\"-----------------------------------------------------------\")"
   ]
  },
  {
   "cell_type": "markdown",
   "id": "f3ebb169",
   "metadata": {},
   "source": [
    "### Plank and Forsyth, 2016 (PF16)\n",
    "\n",
    "Comparing to result in Supplementary S7 in Plank & Forsyth, (2016). Also provides an opportunity to test backtracking method. Note that we do not include a method flag in compute_pressure_temperature since this thermobarometer is the default choice."
   ]
  },
  {
   "cell_type": "code",
   "execution_count": 9,
   "id": "1c5b4bf5",
   "metadata": {},
   "outputs": [
    {
     "name": "stdout",
     "output_type": "stream",
     "text": [
      "PF16 Documented Result:           P = 2.09 GPa, T = 1347 oC.\n",
      "Our result:                       P = 2.09 GPa, T = 1348 oC.\n",
      "\n",
      "-----------------------------------------------------------\n"
     ]
    }
   ],
   "source": [
    "s11 = Suite(\"Data/PF16_S7.csv\", src_FeIII_totFe=0.19, Ce_to_H2O=200.)\n",
    "s11.backtrack_compositions(Kd=0.3, verbose=False)\n",
    "s11.compute_pressure_temperature()\n",
    "print(\"PF16 Documented Result:           P = 2.09 GPa, T = 1347 oC.\")\n",
    "print(\"Our result:                       P = %.2f GPa, T = %i oC.\" % \n",
    "    (s11.PT['P'], round(s11.PT['T'])))\n",
    "print()\n",
    "print(\"-----------------------------------------------------------\")"
   ]
  },
  {
   "cell_type": "markdown",
   "id": "767033a1",
   "metadata": {},
   "source": [
    "### Sun & Dasgupta, 2020 (SD20)\n",
    "\n",
    "Comparing to result in Supplementary 1 of Sun & Dasgupta, (2020) for Longhi (1995) sample."
   ]
  },
  {
   "cell_type": "code",
   "execution_count": 10,
   "id": "37a6b357",
   "metadata": {},
   "outputs": [
    {
     "name": "stderr",
     "output_type": "stream",
     "text": [
      "/Users/patrickball/opt/anaconda3/lib/python3.9/site-packages/meltPT/parse.py:98: UserWarning: Some sample's H2O still zero after parameterization with Ce.\n",
      "  warnings.warn(message)\n"
     ]
    },
    {
     "name": "stdout",
     "output_type": "stream",
     "text": [
      "SD20 Documented Result:           P = 2.90 GPa, T = 1529 oC.\n",
      "Our result:                       P = 2.90 GPa, T = 1533 oC.\n",
      "\n",
      "-----------------------------------------------------------\n"
     ]
    }
   ],
   "source": [
    "s13 = Suite(\"Data/SD20_S1.csv\", read_as_primary=True)\n",
    "s13.compute_pressure_temperature(method=\"SD20\")\n",
    "print(\"SD20 Documented Result:           P = 2.90 GPa, T = 1529 oC.\")\n",
    "print(\"Our result:                       P = %.2f GPa, T = %i oC.\" % \n",
    "    (s13.PT['P'], round(s13.PT['T'])))\n",
    "print()\n",
    "print(\"-----------------------------------------------------------\")"
   ]
  },
  {
   "cell_type": "markdown",
   "id": "71097e53",
   "metadata": {},
   "source": [
    "### Brown Krein et al, 2021 (BK21)\n",
    "\n",
    "Comparing to result in Supplementary Table S1 of Brown Krein et al, 2021 (BK21) for KLB-1 experiment 18 (Hirose & Kushiro, 1993). This sample is in the spinel stability field. Also, we compare to result in Supplementary Table S1 for KR4003 experiment 40.06 (Walter, 1998). This sample is in the garnet stability field."
   ]
  },
  {
   "cell_type": "code",
   "execution_count": 11,
   "id": "a17bf23e",
   "metadata": {},
   "outputs": [
    {
     "name": "stdout",
     "output_type": "stream",
     "text": [
      "BK21 Documented Result:           P = 1.51 GPa, T = 1326 oC.\n",
      "Our result :                      P = 1.52 GPa, T = 1326 oC.\n",
      "\n",
      "BK21 Documented Result:           P = 3.56 GPa, T = 1584 oC.\n",
      "Our result :                      P = 3.56 GPa, T = 1584 oC.\n",
      "\n",
      "-----------------------------------------------------------\n"
     ]
    },
    {
     "name": "stderr",
     "output_type": "stream",
     "text": [
      "/Users/patrickball/opt/anaconda3/lib/python3.9/site-packages/meltPT/parse.py:98: UserWarning: Some sample's H2O still zero after parameterization with Ce.\n",
      "  warnings.warn(message)\n",
      "/Users/patrickball/opt/anaconda3/lib/python3.9/site-packages/meltPT/parse.py:98: UserWarning: Some sample's H2O still zero after parameterization with Ce.\n",
      "  warnings.warn(message)\n"
     ]
    }
   ],
   "source": [
    "s14 = Suite(\"Data/K21_KLB2.csv\", read_as_primary=True)\n",
    "s14.compute_pressure_temperature(method=\"BK21\")\n",
    "print(\"BK21 Documented Result:           P = 1.51 GPa, T = 1326 oC.\")\n",
    "print(\"Our result :                      P = %.2f GPa, T = %i oC.\" % \n",
    "    (s14.PT['P'], round(s14.PT['T'])))\n",
    "print()\n",
    "s15 = Suite(\"Data/K21_KR4003.csv\", read_as_primary=True)\n",
    "s15.compute_pressure_temperature(method=\"BK21\")\n",
    "print(\"BK21 Documented Result:           P = 3.56 GPa, T = 1584 oC.\")\n",
    "print(\"Our result :                      P = %.2f GPa, T = %i oC.\" % \n",
    "    (s15.PT['P'], round(s15.PT['T'])))\n",
    "print()\n",
    "print(\"-----------------------------------------------------------\")"
   ]
  },
  {
   "cell_type": "markdown",
   "id": "457e3c0c",
   "metadata": {},
   "source": [
    "### Grove et al, 2013\n",
    "\n",
    "Comparing to result in Table 5 for KR4003 experiment 40.07. Note that this example only tests the thermometer and is notyet working correctly. We are working to add G13 to the list of available thermobarometers."
   ]
  },
  {
   "cell_type": "code",
   "execution_count": 12,
   "id": "8e098d7c",
   "metadata": {},
   "outputs": [
    {
     "name": "stdout",
     "output_type": "stream",
     "text": [
      "WARNING: G13 does not yet work correctly\n",
      "G13 Documented Result:            P = 4.00 GPa, T = 1624 oC.\n",
      "Our result at 4 GPa:              P = 4.00 GPa, T = 1615 oC.\n",
      "\n",
      "-----------------------------------------------------------\n"
     ]
    },
    {
     "name": "stderr",
     "output_type": "stream",
     "text": [
      "/Users/patrickball/opt/anaconda3/lib/python3.9/site-packages/meltPT/parse.py:98: UserWarning: Some sample's H2O still zero after parameterization with Ce.\n",
      "  warnings.warn(message)\n"
     ]
    }
   ],
   "source": [
    "s9 = Suite(\"Data/G13_Table_5.csv\", read_as_primary=True)\n",
    "s9.compute_temperature(method=\"G13\", P=4.)\n",
    "print(\"WARNING: G13 does not yet work correctly\")\n",
    "print(\"G13 Documented Result:            P = 4.00 GPa, T = 1624 oC.\")\n",
    "print(\"Our result at 4 GPa:              P = %.2f GPa, T = %i oC.\" % \n",
    "    (s9.PT['P'], round(s9.PT['T'])))\n",
    "print()\n",
    "print(\"-----------------------------------------------------------\")"
   ]
  },
  {
   "cell_type": "code",
   "execution_count": null,
   "id": "138072bd",
   "metadata": {},
   "outputs": [],
   "source": []
  }
 ],
 "metadata": {
  "kernelspec": {
   "display_name": "Python 3 (ipykernel)",
   "language": "python",
   "name": "python3"
  },
  "language_info": {
   "codemirror_mode": {
    "name": "ipython",
    "version": 3
   },
   "file_extension": ".py",
   "mimetype": "text/x-python",
   "name": "python",
   "nbconvert_exporter": "python",
   "pygments_lexer": "ipython3",
   "version": "3.9.11"
  }
 },
 "nbformat": 4,
 "nbformat_minor": 5
}
