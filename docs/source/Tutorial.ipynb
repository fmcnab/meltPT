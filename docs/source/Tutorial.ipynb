{
 "cells": [
  {
   "cell_type": "markdown",
   "id": "e294f056",
   "metadata": {},
   "source": [
    "## This is a tutorial\n",
    "\n",
    "Welcome to this tutorial.\n",
    "\n",
    "Try importing *meltPT* and pyplot."
   ]
  },
  {
   "cell_type": "code",
   "execution_count": 4,
   "id": "dcc85f9d",
   "metadata": {
    "scrolled": true
   },
   "outputs": [],
   "source": [
    "from meltPT import *\n",
    "import matplotlib.pyplot as plt"
   ]
  },
  {
   "cell_type": "markdown",
   "id": "8b680095",
   "metadata": {},
   "source": [
    "Try making a pointless plot."
   ]
  },
  {
   "cell_type": "code",
   "execution_count": 5,
   "id": "a5673eef",
   "metadata": {},
   "outputs": [
    {
     "data": {
      "image/png": "[encoded data removed]",
      "text/plain": [
       "<Figure size 432x288 with 1 Axes>"
      ]
     },
     "metadata": {
      "needs_background": "light"
     },
     "output_type": "display_data"
    }
   ],
   "source": [
    "plt.scatter([0.], [0.])\n",
    "plt.show()"
   ]
  },
  {
   "cell_type": "code",
   "execution_count": null,
   "id": "bcbe807b",
   "metadata": {},
   "outputs": [],
   "source": []
  }
 ],
 "metadata": {
  "kernelspec": {
   "display_name": "Python 3 (ipykernel)",
   "language": "python",
   "name": "python3"
  },
  "language_info": {
   "codemirror_mode": {
    "name": "ipython",
    "version": 3
   },
   "file_extension": ".py",
   "mimetype": "text/x-python",
   "name": "python",
   "nbconvert_exporter": "python",
   "pygments_lexer": "ipython3",
   "version": "3.8.10"
  }
 },
 "nbformat": 4,
 "nbformat_minor": 5
}
