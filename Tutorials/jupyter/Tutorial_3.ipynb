{
 "cells": [
  {
   "cell_type": "markdown",
   "id": "68822a97",
   "metadata": {},
   "source": [
    "# Tutorial 3: Hawai'ian Islands\n",
    "\n",
    "In this tutorial, we will generate Figure 5 in McNab & Ball, (in submission). This figure includes pressure, temperature and Tp estimates for the Hawai'ian Island of O'ahu.\n",
    "\n",
    "## Import Code"
   ]
  },
  {
   "cell_type": "code",
   "execution_count": 1,
   "id": "58ed2e7b",
   "metadata": {},
   "outputs": [],
   "source": [
    "from meltPT import *\n",
    "import pyMelt as m\n",
    "import matplotlib.pyplot as plt"
   ]
  },
  {
   "cell_type": "markdown",
   "id": "9c166ba2",
   "metadata": {},
   "source": [
    "## Generate Data\n",
    "\n",
    "### Read in and isolate O'ahu data\n",
    "\n",
    "Read in compilation dataset of Hawaiian samples from McNab & Ball, (2022; Dataset S1). We want take only samples from our Hawaii database that correspond to the island of Oahu. The other islands are shown below for users to try. User can also try adding a second island to perform the calculations on two islands at once."
   ]
  },
  {
   "cell_type": "code",
   "execution_count": 2,
   "id": "77ee7fa3",
   "metadata": {},
   "outputs": [],
   "source": [
    "df = pd.read_csv(\"../Data/Hawaii.csv\", sep=',')\n",
    "\n",
    "# Island options: Niihau / Kaula / Kauai / Oahu / Molokai / Maui / Kahoolawe / Lanai / Hawaii\n",
    "Island = \"Oahu\"\n",
    "Island2 = np.nan\n",
    "\n",
    "# Only retain Island and Island2 samples\n",
    "if Island2 is None:\n",
    "    df1 = df.loc[(df['Province']==Island)]\n",
    "else:\n",
    "    df1 = df.loc[(df['Province']==Island) | (df['Province']==Island2)]"
   ]
  },
  {
   "cell_type": "markdown",
   "id": "14b30a5f",
   "metadata": {},
   "source": [
    "### Treat Shield, Post-Shield and Rejuvenated Phases Differently\n",
    "\n",
    "Here, assume that different phases of volcanism have different source compositions. Unlike in Tutorials 1 and 2, here different samples require different H2O/Ce and src_FeIII_totFe values. So we add H2O and src_FeIII_totFe columns to the input pandas dataframe."
   ]
  },
  {
   "cell_type": "code",
   "execution_count": 3,
   "id": "fa0a399b",
   "metadata": {},
   "outputs": [
    {
     "name": "stderr",
     "output_type": "stream",
     "text": [
      "/home/mcnab/.local/lib/python3.8/site-packages/pandas/core/indexing.py:1773: SettingWithCopyWarning: \n",
      "A value is trying to be set on a copy of a slice from a DataFrame.\n",
      "Try using .loc[row_indexer,col_indexer] = value instead\n",
      "\n",
      "See the caveats in the documentation: https://pandas.pydata.org/pandas-docs/stable/user_guide/indexing.html#returning-a-view-versus-a-copy\n",
      "  self._setitem_single_column(ilocs[0], value, pi)\n",
      "/home/mcnab/.local/lib/python3.8/site-packages/pandas/core/indexing.py:1681: SettingWithCopyWarning: \n",
      "A value is trying to be set on a copy of a slice from a DataFrame.\n",
      "Try using .loc[row_indexer,col_indexer] = value instead\n",
      "\n",
      "See the caveats in the documentation: https://pandas.pydata.org/pandas-docs/stable/user_guide/indexing.html#returning-a-view-versus-a-copy\n",
      "  self.obj[key] = empty_value\n"
     ]
    }
   ],
   "source": [
    "# Calculate water based on different H2O/Ce values in main text\n",
    "df1.loc[(df1['Stage']==\"Shield\"), 'H2O'] = 144. * df1.loc[(df1['Stage']==\"Shield\"), 'Ce'] / 10000\n",
    "df1.loc[(df1['Stage']==\"Post-Shield\"), 'H2O'] = 136. * df1.loc[(df1['Stage']==\"Post-Shield\"), 'Ce'] / 10000\n",
    "df1.loc[(df1['Stage']==\"Rejuvenated\"), 'H2O'] = 211. * df1.loc[(df1['Stage']==\"Rejuvenated\"), 'Ce'] / 10000\n",
    "\n",
    "# Assign src_FeIII_totFe values in main text\n",
    "# Multiplying by zero of the same dataframe shape prevents errors.\n",
    "df1.loc[(df1['Stage']==\"Shield\"), 'src_FeIII_totFe'] = 0.15 + 0 * df1.loc[(df1['Stage']==\"Shield\"), 'Ce']\n",
    "df1.loc[(df1['Stage']==\"Post-Shield\"), 'src_FeIII_totFe'] = 0.15 + 0 * df1.loc[(df1['Stage']==\"Post-Shield\"), 'Ce']\n",
    "df1.loc[(df1['Stage']==\"Rejuvenated\"), 'src_FeIII_totFe'] = 0.17 + 0 * df1.loc[(df1['Stage']==\"Rejuvenated\"), 'Ce']"
   ]
  },
  {
   "cell_type": "markdown",
   "id": "b017dc35",
   "metadata": {},
   "source": [
    "### Filter for Ce and save to a csv\n",
    "\n",
    "See Tutorial 2 for comprehensive explanation"
   ]
  },
  {
   "cell_type": "code",
   "execution_count": 4,
   "id": "bb139947",
   "metadata": {},
   "outputs": [],
   "source": [
    "df = df1.loc[(df1['Ce']>0)]\n",
    "df.to_csv(\"../Data/province.csv\", sep=',')"
   ]
  },
  {
   "cell_type": "markdown",
   "id": "d4cba451",
   "metadata": {},
   "source": [
    "### Read in data, backtrack and calculate pressure and temperature\n",
    "\n",
    "See Tutorial 1 for comprehensive explanation"
   ]
  },
  {
   "cell_type": "code",
   "execution_count": 5,
   "id": "2d97a9bb",
   "metadata": {},
   "outputs": [
    {
     "name": "stderr",
     "output_type": "stream",
     "text": [
      "/home/mcnab/Melting/meltPT/meltPT/parse.py:79: UserWarning: Input csv does not contain a Fe2O3 column: we will try to fill it for you, or set it to zero.\n",
      "  warnings.warn(message)\n",
      "/home/mcnab/Melting/meltPT/meltPT/parse.py:79: UserWarning: Input csv does not contain a Cr2O3 column: we will try to fill it for you, or set it to zero.\n",
      "  warnings.warn(message)\n",
      "/home/mcnab/Melting/meltPT/meltPT/parse.py:79: UserWarning: Input csv does not contain a NiO column: we will try to fill it for you, or set it to zero.\n",
      "  warnings.warn(message)\n",
      "/home/mcnab/Melting/meltPT/meltPT/parse.py:79: UserWarning: Input csv does not contain a CoO column: we will try to fill it for you, or set it to zero.\n",
      "  warnings.warn(message)\n",
      "/home/mcnab/Melting/meltPT/meltPT/parse.py:79: UserWarning: Input csv does not contain a CO2 column: we will try to fill it for you, or set it to zero.\n",
      "  warnings.warn(message)\n",
      "/home/mcnab/Melting/meltPT/meltPT/parse.py:79: UserWarning: Input csv does not contain a FeO_tot column: we will try to fill it for you, or set it to zero.\n",
      "  warnings.warn(message)\n",
      "/home/mcnab/Melting/meltPT/meltPT/backtrack_compositions.py:252: UserWarning: samp.KOO-17A: backtracking failed! Starting Fo above mantle Fo.\n",
      "  warnings.warn(message)\n",
      "/home/mcnab/Melting/meltPT/meltPT/backtrack_compositions.py:252: UserWarning: samp.H3-10: backtracking failed! Starting Fo above mantle Fo.\n",
      "  warnings.warn(message)\n",
      "/home/mcnab/Melting/meltPT/meltPT/backtrack_compositions.py:252: UserWarning: samp.KOO-CF: backtracking failed! Starting Fo above mantle Fo.\n",
      "  warnings.warn(message)\n",
      "/home/mcnab/Melting/meltPT/meltPT/backtrack_compositions.py:252: UserWarning: samp.1: backtracking failed! Starting Fo above mantle Fo.\n",
      "  warnings.warn(message)\n",
      "/home/mcnab/Melting/meltPT/meltPT/backtrack_compositions.py:252: UserWarning: samp.2: backtracking failed! Starting Fo above mantle Fo.\n",
      "  warnings.warn(message)\n",
      "/home/mcnab/Melting/meltPT/meltPT/backtrack_compositions.py:252: UserWarning: samp.3: backtracking failed! Starting Fo above mantle Fo.\n",
      "  warnings.warn(message)\n",
      "/home/mcnab/Melting/meltPT/meltPT/backtrack_compositions.py:252: UserWarning: samp.5: backtracking failed! Starting Fo above mantle Fo.\n",
      "  warnings.warn(message)\n",
      "/home/mcnab/Melting/meltPT/meltPT/backtrack_compositions.py:252: UserWarning: samp.6: backtracking failed! Starting Fo above mantle Fo.\n",
      "  warnings.warn(message)\n",
      "/home/mcnab/Melting/meltPT/meltPT/backtrack_compositions.py:252: UserWarning: samp.31: backtracking failed! Starting Fo above mantle Fo.\n",
      "  warnings.warn(message)\n",
      "/home/mcnab/Melting/meltPT/meltPT/backtrack_compositions.py:252: UserWarning: samp.92: backtracking failed! Starting Fo above mantle Fo.\n",
      "  warnings.warn(message)\n",
      "/home/mcnab/Melting/meltPT/meltPT/backtrack_compositions.py:252: UserWarning: samp.K89-6: backtracking failed! Starting Fo above mantle Fo.\n",
      "  warnings.warn(message)\n",
      "/home/mcnab/Melting/meltPT/meltPT/backtrack_compositions.py:252: UserWarning: samp.S500-1: backtracking failed! Starting Fo above mantle Fo.\n",
      "  warnings.warn(message)\n",
      "/home/mcnab/Melting/meltPT/meltPT/backtrack_compositions.py:252: UserWarning: samp.S500-5B: backtracking failed! Starting Fo above mantle Fo.\n",
      "  warnings.warn(message)\n",
      "/home/mcnab/Melting/meltPT/meltPT/backtrack_compositions.py:252: UserWarning: samp.S497-6: backtracking failed! Starting Fo above mantle Fo.\n",
      "  warnings.warn(message)\n",
      "/home/mcnab/Melting/meltPT/meltPT/backtrack_compositions.py:252: UserWarning: samp.S500-6: backtracking failed! Starting Fo above mantle Fo.\n",
      "  warnings.warn(message)\n",
      "/home/mcnab/Melting/meltPT/meltPT/backtrack_compositions.py:252: UserWarning: samp.GMQ7.5: backtracking failed! Starting Fo above mantle Fo.\n",
      "  warnings.warn(message)\n"
     ]
    }
   ],
   "source": [
    "s = Suite(\"../Data/province.csv\", min_MgO=8.5)\n",
    "b = BacktrackOlivineFractionation()\n",
    "s.backtrack_compositions(backtracker=b)\n",
    "s.compute_pressure_temperature(min_SiO2=40.)"
   ]
  },
  {
   "cell_type": "markdown",
   "id": "27e3e3f2",
   "metadata": {},
   "source": [
    "### Calculate Tp\n",
    "\n",
    "See Tutorial 1 for comprehensive explanation"
   ]
  },
  {
   "cell_type": "code",
   "execution_count": 6,
   "id": "e28b56aa",
   "metadata": {},
   "outputs": [],
   "source": [
    "# Set up mantle lithology\n",
    "lz = m.lithologies.katz.lherzolite()\n",
    "mantle = m.mantle([lz], [1], ['Lz'])\n",
    "max_P = -lz.parameters['A2'] / (2.*lz.parameters['A3'])\n",
    "P_sol = np.arange(0., max_P, 0.1)\n",
    "T_sol = [lz.TSolidus(P) for P in P_sol]\n",
    "\n",
    "# calculate Tp\n",
    "s.find_suite_potential_temperature(mantle, find_bounds=True)"
   ]
  },
  {
   "cell_type": "markdown",
   "id": "8462cd25",
   "metadata": {},
   "source": [
    "## Plot Figure 5c,i,o,u\n",
    "\n",
    "Here, we use our results to generate a similar figure to that seen in Figure 5c,i,o,u of McNab and Ball (in submission)."
   ]
  },
  {
   "cell_type": "code",
   "execution_count": 7,
   "id": "9ff8fd10",
   "metadata": {},
   "outputs": [
    {
     "data": {
      "image/png": "[encoded data removed]",
      "text/plain": [
       "<Figure size 432x288 with 4 Axes>"
      ]
     },
     "metadata": {
      "needs_background": "light"
     },
     "output_type": "display_data"
    }
   ],
   "source": [
    "fig, ((ax1, ax2),(ax3, ax4)) = plt.subplots(2,2, sharey=True)\n",
    "\n",
    "# ------------------\n",
    "# ---- Figure 5c (top left)\n",
    "# ------------------\n",
    "\n",
    "# Plot solidus\n",
    "ax1.plot(T_sol, P_sol, \"k\")\n",
    "\n",
    "# Plot best fitting melt path\n",
    "ax1.plot(s.path.T, s.path.P, \"-\", color=\"k\", zorder=1)\n",
    "\n",
    "# Plot bounding melt paths\n",
    "ax1.plot(s.upper_path.T, s.upper_path.P, \"--\", color=\"k\", zorder=1)\n",
    "ax1.plot(s.lower_path.T, s.lower_path.P, \"--\", color=\"k\", zorder=1)\n",
    "\n",
    "# Plot data\n",
    "ax1.scatter(s.PT['T'][s.data['Stage']==\"Shield\"], s.PT['P'][s.data['Stage']==\"Shield\"],\n",
    "            marker=\"^\", facecolors=\"orange\", edgecolor=\"k\", zorder=2)\n",
    "ax1.scatter(s.PT['T'][s.data['Stage']==\"Post-Shield\"], s.PT['P'][s.data['Stage']==\"Post-Shield\"],\n",
    "            marker=\"s\", facecolors=\"deeppink\", edgecolor=\"k\", zorder=2)\n",
    "ax1.scatter(s.PT['T'][s.data['Stage']==\"Rejuvenated\"], s.PT['P'][s.data['Stage']==\"Rejuvenated\"],\n",
    "            marker=\"o\", facecolors=\"dodgerblue\", edgecolor=\"k\", zorder=2)\n",
    "\n",
    "# Organise axes\n",
    "ax1.text(0.95, 0.95, \"$T_p$ = $%i^{+%i}_{-%i}$ $^\\circ$C\" % (\n",
    "    s.potential_temperature, \n",
    "    s.upper_potential_temperature - s.potential_temperature,\n",
    "    s.potential_temperature - s.lower_potential_temperature), verticalalignment='top', \n",
    "          horizontalalignment='right', transform=ax1.transAxes, fontsize=12)\n",
    "ax1.text(0.05, 0.05, 'a', verticalalignment='bottom', \n",
    "          horizontalalignment='left', transform=ax1.transAxes, fontsize=12)\n",
    "ax1.set_xlabel(\"Temperature [$^\\circ$C]\")\n",
    "ax1.xaxis.set_tick_params(top=True, labeltop=True, bottom=False, labelbottom=False)\n",
    "ax1.xaxis.set_label_position('top')\n",
    "ax1.set_ylabel(\"Pressure [GPa]\")\n",
    "ax1.set_xlim((1325.),(1725.))\n",
    "ax1.set_ylim((0.5),(5.5))\n",
    "ax1.invert_yaxis()\n",
    "\n",
    "# ------------------\n",
    "# ---- Figure 5i (top right)\n",
    "# ------------------\n",
    "\n",
    "# Plot Data\n",
    "ax2.scatter(s.data.loc[(s.data['Sm']>0.) & (s.data['Yb']>0.) & (s.data['Stage']==\"Shield\"), 'Sm']/\n",
    "            s.data.loc[(s.data['Sm']>0.) & (s.data['Yb']>0.) & (s.data['Stage']==\"Shield\"), 'Yb'], \n",
    "            s.PT.loc[(s.data['Sm']>0.) & (s.data['Yb']>0.) & (s.data['Stage']==\"Shield\"), 'P'], \n",
    "            marker=\"^\", facecolors=\"orange\", edgecolor=\"k\")\n",
    "ax2.scatter(s.data.loc[(s.data['Sm']>0.) & (s.data['Yb']>0.) & (s.data['Stage']==\"Post-Shield\"), 'Sm']/\n",
    "            s.data.loc[(s.data['Sm']>0.) & (s.data['Yb']>0.) & (s.data['Stage']==\"Post-Shield\"), 'Yb'], \n",
    "            s.PT.loc[(s.data['Sm']>0.) & (s.data['Yb']>0.) & (s.data['Stage']==\"Post-Shield\"), 'P'],\n",
    "            marker=\"s\", facecolors=\"deeppink\", edgecolor=\"k\", zorder=2)\n",
    "ax2.scatter(s.data.loc[(s.data['Sm']>0.) & (s.data['Yb']>0.) & (s.data['Stage']==\"Rejuvenated\"), 'Sm']/\n",
    "            s.data.loc[(s.data['Sm']>0.) & (s.data['Yb']>0.) & (s.data['Stage']==\"Rejuvenated\"), 'Yb'], \n",
    "            s.PT.loc[(s.data['Sm']>0.) & (s.data['Yb']>0.) & (s.data['Stage']==\"Rejuvenated\"), 'P'],\n",
    "            marker=\"o\", facecolors=\"dodgerblue\", edgecolor=\"k\")\n",
    "\n",
    "# Organise axes\n",
    "ax2.set_xlabel(\"Sm/Yb\")\n",
    "ax2.xaxis.set_label_position('top')\n",
    "ax2.xaxis.set_tick_params(top=True, labeltop=True, bottom=False, labelbottom=False)\n",
    "ax2.text(0.05, 0.05, 'b', verticalalignment='bottom', \n",
    "          horizontalalignment='left', transform=ax2.transAxes, fontsize=12)\n",
    "ax2.set_ylim((0.5),(5.5))\n",
    "ax2.invert_yaxis()\n",
    "\n",
    "# ------------------\n",
    "# ---- Figure 5o (bottom left)\n",
    "# ------------------\n",
    "\n",
    "# plot data\n",
    "ax3.scatter(s.data.loc[(s.data['Nb']>0.) & (s.data['Stage']==\"Shield\"), 'Nb']/\n",
    "            s.data.loc[(s.data['Nb']>0.) & (s.data['Stage']==\"Shield\"), 'Zr'], \n",
    "            s.PT.loc[(s.data['Nb']>0.) & (s.data['Stage']==\"Shield\"), 'P'], \n",
    "            marker=\"^\", facecolors=\"orange\", edgecolor=\"k\")\n",
    "ax3.scatter(s.data.loc[(s.data['Nb']>0.) & (s.data['Stage']==\"Post-Shield\"), 'Nb']/\n",
    "            s.data.loc[(s.data['Nb']>0.) & (s.data['Stage']==\"Post-Shield\"), 'Zr'],\n",
    "            s.PT.loc[(s.data['Nb']>0.) & (s.data['Stage']==\"Post-Shield\"), 'P'], \n",
    "            marker=\"s\", facecolors=\"deeppink\", edgecolor=\"k\", zorder=2)\n",
    "ax3.scatter(s.data.loc[(s.data['Nb']>0.) & (s.data['Stage']==\"Rejuvenated\"), 'Nb']/\n",
    "            s.data.loc[(s.data['Nb']>0.) & (s.data['Stage']==\"Rejuvenated\"), 'Zr'], \n",
    "            s.PT.loc[(s.data['Nb']>0.) & (s.data['Stage']==\"Rejuvenated\"), 'P'], \n",
    "            marker=\"o\", facecolors=\"dodgerblue\", edgecolor=\"k\")\n",
    "\n",
    "# organise axes\n",
    "ax3.set_xlabel(\"Nb/Zr\")\n",
    "ax3.set_ylabel(\"Pressure [GPa]\")\n",
    "ax3.text(0.05, 0.05, 'c', verticalalignment='bottom', \n",
    "          horizontalalignment='left', transform=ax3.transAxes, fontsize=12)\n",
    "ax3.set_ylim((0.5),(5.5))\n",
    "ax3.invert_yaxis()\n",
    "\n",
    "# ------------------\n",
    "# ---- Figure 5u (bottom right)\n",
    "# ------------------\n",
    "\n",
    "# plot data\n",
    "ax4.scatter(s.data.loc[(s.data['143Nd/144Nd']>0.) & (s.data['Stage']==\"Shield\"), '143Nd/144Nd'],\n",
    "            s.PT.loc[(s.data['143Nd/144Nd']>0.) & (s.data['Stage']==\"Shield\"), 'P'],\n",
    "            marker=\"^\", facecolors=\"orange\", edgecolor=\"k\")\n",
    "ax4.scatter(s.data.loc[(s.data['143Nd/144Nd']>0.) & (s.data['Stage']==\"Post-Shield\"), '143Nd/144Nd'],\n",
    "            s.PT.loc[(s.data['143Nd/144Nd']>0.) & (s.data['Stage']==\"Post-Shield\"), 'P'],\n",
    "            marker=\"s\", facecolors=\"deeppink\", edgecolor=\"k\", zorder=2)\n",
    "ax4.scatter(s.data.loc[(s.data['143Nd/144Nd']>0.) & (s.data['Stage']==\"Rejuvenated\"), '143Nd/144Nd'],\n",
    "            s.PT.loc[(s.data['143Nd/144Nd']>0.) & (s.data['Stage']==\"Rejuvenated\"), 'P'],\n",
    "            marker=\"o\", facecolors=\"dodgerblue\", edgecolor=\"k\")\n",
    "\n",
    "# organise axes\n",
    "ax4.set_xlabel(\"$^{143}$Nd/$^{144}$Nd\")\n",
    "ax4.text(0.05, 0.05, 'd', verticalalignment='bottom', \n",
    "          horizontalalignment='left', transform=ax4.transAxes, fontsize=12)\n",
    "ax4.set_ylim((0.5),(5.5))\n",
    "ax4.invert_yaxis()\n",
    "\n",
    "# ---- Finish Plot\n",
    "plt.tight_layout()\n",
    "plt.show()"
   ]
  }
 ],
 "metadata": {
  "kernelspec": {
   "display_name": "Python 3 (ipykernel)",
   "language": "python",
   "name": "python3"
  },
  "language_info": {
   "codemirror_mode": {
    "name": "ipython",
    "version": 3
   },
   "file_extension": ".py",
   "mimetype": "text/x-python",
   "name": "python",
   "nbconvert_exporter": "python",
   "pygments_lexer": "ipython3",
   "version": "3.8.10"
  }
 },
 "nbformat": 4,
 "nbformat_minor": 5
}
