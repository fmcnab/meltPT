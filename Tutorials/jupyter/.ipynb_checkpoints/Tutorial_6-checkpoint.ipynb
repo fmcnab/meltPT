{
 "cells": [
  {
   "cell_type": "markdown",
   "id": "6a1d1f21",
   "metadata": {},
   "source": [
    "## Tutorial 6: Custom Thermobarometers\n",
    "\n",
    "In this tutorial we will show you how to apply your own thermobarometer\n",
    "in meltPT. Each thermobarometer is implemented as a separate python class.\n",
    "There are a few key features that these classes much contain to work properly.\n",
    "On top of these necessary features, you can include any other methods/\n",
    "properties you need to get the thermobarometer working.\n",
    "\n",
    "The key features are:\n",
    "- accepts a single-row pandas dataframe on instantiation\n",
    "- includes one or more of the methods: compute_pressure_temperature,\n",
    "  compute_pressure, compute_temperature\n",
    "- these methods should return a dictionary containing calculated pressures\n",
    "  and temperatures and their uncertainties\n",
    "  \n",
    " "
   ]
  },
  {
   "cell_type": "markdown",
   "id": "97901e18",
   "metadata": {},
   "source": [
    "Let's design a simple minumum working example.\n",
    "No matter what you give it, it will return a pressure of 1 +/- 0.1 GPa and a\n",
    "temperature of 1000 +/- 100 oC. "
   ]
  },
  {
   "cell_type": "code",
   "execution_count": 1,
   "id": "babc70fe",
   "metadata": {},
   "outputs": [],
   "source": [
    "from meltPT import *\n",
    "\n",
    "class ExampleThermobarometer:\n",
    "    \n",
    "    # Insantiation should accept only a dataframe\n",
    "    def __init__(self, df):\n",
    "        self.df = df\n",
    "        self.P_err = 0.1\n",
    "        self.T_err = 100.\n",
    "    \n",
    "    # To run with Suite.compute_pressure_temperature, we need a\n",
    "    # compute_pressure_temperature_method.\n",
    "    # It should return a dictionary including P, P_err, T, and T_err\n",
    "    # (can include nans).\n",
    "    def compute_pressure_temperature(self):\n",
    "        return {'P': 1., 'P_err': self.P_err, 'T': 1000., 'T_err': self.T_err}\n",
    "    \n",
    "    # Same for use with Suite.compute_pressure. For now expected to be\n",
    "    # temperature dependent.\n",
    "    def compute_pressure(self, T):\n",
    "        return {'P': 1., 'P_err': self.P_err, 'T': T, 'T_err': np.nan}\n",
    "    \n",
    "    # Same for use with Suite.compute_temperature. For now expected to be\n",
    "    # pressure dependent.\n",
    "    def compute_temperature(self, P):\n",
    "        return {'P': P, 'P_err': np.nan, 'T': 1000., 'T_err': self.T_err}\n",
    "        "
   ]
  },
  {
   "cell_type": "markdown",
   "id": "a6bbfa34",
   "metadata": {},
   "source": [
    "Now let's try it out on our sample from Plank & Forsyth (2016)"
   ]
  },
  {
   "cell_type": "code",
   "execution_count": 2,
   "id": "f0aa516f",
   "metadata": {},
   "outputs": [
    {
     "name": "stderr",
     "output_type": "stream",
     "text": [
      "/home/mcnab/Melting/meltPT/meltPT/parse.py:77: UserWarning: Input csv does not contain a Fe2O3 column: we will try to fill it for you, or set it to zero.\n",
      "  warnings.warn(message)\n",
      "/home/mcnab/Melting/meltPT/meltPT/parse.py:77: UserWarning: Input csv does not contain a Cr2O3 column: we will try to fill it for you, or set it to zero.\n",
      "  warnings.warn(message)\n",
      "/home/mcnab/Melting/meltPT/meltPT/parse.py:77: UserWarning: Input csv does not contain a NiO column: we will try to fill it for you, or set it to zero.\n",
      "  warnings.warn(message)\n",
      "/home/mcnab/Melting/meltPT/meltPT/parse.py:77: UserWarning: Input csv does not contain a CoO column: we will try to fill it for you, or set it to zero.\n",
      "  warnings.warn(message)\n",
      "/home/mcnab/Melting/meltPT/meltPT/parse.py:77: UserWarning: Input csv does not contain a CO2 column: we will try to fill it for you, or set it to zero.\n",
      "  warnings.warn(message)\n",
      "/home/mcnab/Melting/meltPT/meltPT/parse.py:77: UserWarning: Input csv does not contain a FeO_tot column: we will try to fill it for you, or set it to zero.\n",
      "  warnings.warn(message)\n"
     ]
    }
   ],
   "source": [
    "s = Suite(\"../Data/PF16_UT09DV04.csv\", src_FeIII_totFe=0.17, src_Fo=0.9)\n",
    "b = BacktrackOlivineFractionation()\n",
    "s.backtrack_compositions(backtracker=b)"
   ]
  },
  {
   "cell_type": "markdown",
   "id": "427be1fb",
   "metadata": {},
   "source": [
    "Call the compute_pressure_temperature method and feed it our custom thermobarometer."
   ]
  },
  {
   "cell_type": "code",
   "execution_count": 3,
   "id": "0b726a13",
   "metadata": {},
   "outputs": [
    {
     "name": "stdout",
     "output_type": "stream",
     "text": [
      "     P  P_err       T  T_err\n",
      "0  1.0    0.1  1000.0  100.0\n"
     ]
    }
   ],
   "source": [
    "s.compute_pressure_temperature(method=ExampleThermobarometer)\n",
    "print(s.PT)"
   ]
  },
  {
   "cell_type": "markdown",
   "id": "fe42261c",
   "metadata": {},
   "source": [
    "Now let's try out it out as a barometer."
   ]
  },
  {
   "cell_type": "code",
   "execution_count": 4,
   "id": "0bd2c64c",
   "metadata": {},
   "outputs": [
    {
     "name": "stdout",
     "output_type": "stream",
     "text": [
      "     P  P_err       T  T_err\n",
      "0  1.0    0.1  1300.0    NaN\n"
     ]
    }
   ],
   "source": [
    "s.compute_pressure(method=ExampleThermobarometer, T=1300.)\n",
    "print(s.PT)"
   ]
  },
  {
   "cell_type": "markdown",
   "id": "734e241d",
   "metadata": {},
   "source": [
    "... and as a thermometer."
   ]
  },
  {
   "cell_type": "code",
   "execution_count": 5,
   "id": "4e6117df",
   "metadata": {},
   "outputs": [
    {
     "name": "stdout",
     "output_type": "stream",
     "text": [
      "     P  P_err       T  T_err\n",
      "0  2.0    NaN  1000.0  100.0\n"
     ]
    }
   ],
   "source": [
    "s.compute_temperature(method=ExampleThermobarometer, P=2.)\n",
    "print(s.PT)"
   ]
  }
 ],
 "metadata": {
  "kernelspec": {
   "display_name": "Python 3 (ipykernel)",
   "language": "python",
   "name": "python3"
  },
  "language_info": {
   "codemirror_mode": {
    "name": "ipython",
    "version": 3
   },
   "file_extension": ".py",
   "mimetype": "text/x-python",
   "name": "python",
   "nbconvert_exporter": "python",
   "pygments_lexer": "ipython3",
   "version": "3.8.10"
  }
 },
 "nbformat": 4,
 "nbformat_minor": 5
}
