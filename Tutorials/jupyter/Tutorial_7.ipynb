{
 "cells": [
  {
   "cell_type": "markdown",
   "id": "70b5370a",
   "metadata": {},
   "source": [
    "## Tutorial 7: Custom Reverse Fractionation\n",
    "\n",
    "In this tutorial, we discuss how to implement your own reverse fractionation\n",
    "scheme in meltPT. As with the thermobarometers in Tutorial 6, this\n",
    "backtracking is carried out by a separate python class. For now, we only\n",
    "provide a scheme that corrects for the effects of olivine, but we hope to add\n",
    "more functionality in the future (contributions are welcome!).\n",
    "\n",
    "The key features of a backtracking class are:\n",
    "- contains a method called \"backtrack_sample_composition\"\n",
    "- \"backtrack_sample_composition\" should accept only a single-row pandas\n",
    "  dataframe containing the compositions in oxide wt% to be backtracked\n",
    "- \"backtrack_sample_composition\" should return a dictionary or series\n",
    "  containing the backtracked compositions. We expect these compositions to be\n",
    "  in oxide wt percent, and column headings should have the suffix\n",
    "  \"_primary_wt\"\n",
    "- any parameters or setting up needed prior to backtracking should be done\n",
    "  during instanciation. The class instance will then be passed to a Suite\n",
    "  instance for use.\n",
    "\n",
    "Let's design a simple minumum working example. This \"backtracker\" will simply\n",
    "add silica until some threshold is reached.\n"
   ]
  },
  {
   "cell_type": "code",
   "execution_count": 1,
   "id": "1435c048",
   "metadata": {},
   "outputs": [],
   "source": [
    "from meltPT import *"
   ]
  },
  {
   "cell_type": "code",
   "execution_count": 2,
   "id": "2d33ffac",
   "metadata": {},
   "outputs": [],
   "source": [
    "class ExampleBacktracker:\n",
    "    \n",
    "    def __init__(self, target_SiO2, dm):\n",
    "        self.target_SiO2 = target_SiO2\n",
    "        self.dm = dm\n",
    "        \n",
    "    def add_silica(self):\n",
    "        \n",
    "        # Add the specified amount of silica\n",
    "        self.oxide_wt_hydrous['SiO2'] += self.dm\n",
    "        \n",
    "        # Renormalise to a total of 100% using meltPT's normalise function\n",
    "        self.oxide_wt_hydrous = normalise(self.oxide_wt_hydrous)\n",
    "        \n",
    "    def backtrack_sample_composition(self, df):\n",
    "        \n",
    "        # First we will extract relevant major oxides from the input dataframe.\n",
    "        # meltPT includes a list, MAJOR_OXIDES, containing each of the oxides\n",
    "        # used by its thermobarometers. We will extract each of these\n",
    "        # concentrations and assign them to oxide_wt_hydrous.\n",
    "        self.oxide_wt_hydrous = {}\n",
    "        for ox in MAJOR_OXIDES:\n",
    "            self.oxide_wt_hydrous[ox] = df[ox]\n",
    "        self.oxide_wt_hydrous = normalise(self.oxide_wt_hydrous)\n",
    "        \n",
    "        # Next let's iteratively add silica until we reach the specified\n",
    "        # threshold.\n",
    "        while self.oxide_wt_hydrous['SiO2'] < self.target_SiO2:\n",
    "            self.add_silica()\n",
    "            \n",
    "        # Now we need to add some suffixes and return the new compositions.\n",
    "        primary_oxide = {}\n",
    "        for phase in self.oxide_wt_hydrous:\n",
    "            primary_oxide[phase + \"_primary_wt\"] = self.oxide_wt_hydrous[phase]\n",
    "            \n",
    "        # And return.\n",
    "        return primary_oxide"
   ]
  },
  {
   "cell_type": "markdown",
   "id": "6e65905e",
   "metadata": {},
   "source": [
    "Now let's try it out on our sample from Plank & Forsyth (2016)"
   ]
  },
  {
   "cell_type": "code",
   "execution_count": 3,
   "id": "62f4ed6f",
   "metadata": {},
   "outputs": [
    {
     "name": "stderr",
     "output_type": "stream",
     "text": [
      "/home/mcnab/Melting/meltPT/meltPT/parse.py:77: UserWarning: Input csv does not contain a Fe2O3 column: we will try to fill it for you, or set it to zero.\n",
      "  warnings.warn(message)\n",
      "/home/mcnab/Melting/meltPT/meltPT/parse.py:77: UserWarning: Input csv does not contain a Cr2O3 column: we will try to fill it for you, or set it to zero.\n",
      "  warnings.warn(message)\n",
      "/home/mcnab/Melting/meltPT/meltPT/parse.py:77: UserWarning: Input csv does not contain a NiO column: we will try to fill it for you, or set it to zero.\n",
      "  warnings.warn(message)\n",
      "/home/mcnab/Melting/meltPT/meltPT/parse.py:77: UserWarning: Input csv does not contain a CoO column: we will try to fill it for you, or set it to zero.\n",
      "  warnings.warn(message)\n",
      "/home/mcnab/Melting/meltPT/meltPT/parse.py:77: UserWarning: Input csv does not contain a CO2 column: we will try to fill it for you, or set it to zero.\n",
      "  warnings.warn(message)\n",
      "/home/mcnab/Melting/meltPT/meltPT/parse.py:77: UserWarning: Input csv does not contain a FeO_tot column: we will try to fill it for you, or set it to zero.\n",
      "  warnings.warn(message)\n"
     ]
    }
   ],
   "source": [
    "s = Suite(\"../Data/PF16_UT09DV04.csv\", src_FeIII_totFe=0.17, src_Fo=0.9)"
   ]
  },
  {
   "cell_type": "markdown",
   "id": "c6528a91",
   "metadata": {},
   "source": [
    "We will set up our backtracking class, with a target SiO2 content of 60% and an incremement of 0.1 wt%. Then we pass it to the Suite.backtrack_compositions method."
   ]
  },
  {
   "cell_type": "code",
   "execution_count": 4,
   "id": "335fd37f",
   "metadata": {},
   "outputs": [],
   "source": [
    "b = ExampleBacktracker(target_SiO2=60., dm=0.001)\n",
    "s.backtrack_compositions(backtracker=b)"
   ]
  },
  {
   "cell_type": "markdown",
   "id": "4c5a23c7",
   "metadata": {},
   "source": [
    "Take a look at the result. In particular, we see that the SiO2 concentration is close to 60 wt%. All other phases now have reduced concentration."
   ]
  },
  {
   "cell_type": "code",
   "execution_count": 5,
   "id": "ea1d338e",
   "metadata": {},
   "outputs": [
    {
     "name": "stdout",
     "output_type": "stream",
     "text": [
      "   Al2O3_primary_wt  CO2_primary_wt  CaO_primary_wt  CoO_primary_wt  \\\n",
      "0         11.688094             0.0        6.614484             0.0   \n",
      "\n",
      "   Cr2O3_primary_wt  Fe2O3_primary_wt  FeO_primary_wt  H2O_primary_wt  \\\n",
      "0          0.023488          1.601964         7.03721        1.052304   \n",
      "\n",
      "   K2O_primary_wt  MgO_primary_wt  MnO_primary_wt  Na2O_primary_wt  \\\n",
      "0        0.841843        6.689649        0.135296         2.585662   \n",
      "\n",
      "   NiO_primary_wt  P2O5_primary_wt  SiO2_primary_wt  TiO2_primary_wt  \n",
      "0        0.015983         0.293142        60.000271         1.420611  \n",
      "0    60.000271\n",
      "Name: SiO2_primary_wt, dtype: float64\n"
     ]
    }
   ],
   "source": [
    "print(s.primary)\n",
    "print(s.primary['SiO2_primary_wt'])"
   ]
  },
  {
   "cell_type": "markdown",
   "id": "b26fbb04",
   "metadata": {},
   "source": [
    "We can have a go at calculating equilibration presures and temperatures. The results will be nonsense of course."
   ]
  },
  {
   "cell_type": "code",
   "execution_count": 6,
   "id": "0fbdec1d",
   "metadata": {},
   "outputs": [
    {
     "name": "stdout",
     "output_type": "stream",
     "text": [
      "          P  P_err       T        T_err\n",
      "0 -0.066185   0.24  1300.0 -4714.027221\n"
     ]
    }
   ],
   "source": [
    "s.compute_pressure(method=\"PF16\")\n",
    "print(s.PT)"
   ]
  }
 ],
 "metadata": {
  "kernelspec": {
   "display_name": "Python 3 (ipykernel)",
   "language": "python",
   "name": "python3"
  },
  "language_info": {
   "codemirror_mode": {
    "name": "ipython",
    "version": 3
   },
   "file_extension": ".py",
   "mimetype": "text/x-python",
   "name": "python",
   "nbconvert_exporter": "python",
   "pygments_lexer": "ipython3",
   "version": "3.8.10"
  }
 },
 "nbformat": 4,
 "nbformat_minor": 5
}
