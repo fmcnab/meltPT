{
 "cells": [
  {
   "cell_type": "markdown",
   "id": "cf099755",
   "metadata": {},
   "source": [
    "## Tutorial 8: Monte Carlo error analysis\n",
    "\n",
    "Here we will demonstrate how one could set up a Monte Carlo analysis of uncertainties using **meltPT**. In doing so we will recreate the analysis shown in Figure 2 of M<sup>c</sup>Nab & Ball (in rev., Volcanica)."
   ]
  },
  {
   "cell_type": "markdown",
   "id": "8d3bcb84",
   "metadata": {},
   "source": [
    "Start by importing the libraries we will need:"
   ]
  },
  {
   "cell_type": "code",
   "execution_count": 1,
   "id": "1ea385f7",
   "metadata": {},
   "outputs": [],
   "source": [
    "from meltPT import *\n",
    "import pyMelt as m\n",
    "import matplotlib.pyplot as plt\n",
    "import random"
   ]
  },
  {
   "cell_type": "markdown",
   "id": "cbb98111",
   "metadata": {},
   "source": [
    "# A useful class\n",
    "\n",
    "We will start by defining a class for storing information about parameters and their uncertainties. This will come in handy later."
   ]
  },
  {
   "cell_type": "code",
   "execution_count": 2,
   "id": "7fba29d2",
   "metadata": {},
   "outputs": [],
   "source": [
    "class Parameter:\n",
    "    def __init__(self, val, plus, minus):\n",
    "        self.val = val\n",
    "        self.plus = plus\n",
    "        self.minus = minus\n",
    "    \n",
    "    def draw_normal(self):\n",
    "        return random.gauss(self.val, (self.plus+self.minus)/2.)\n",
    "        \n",
    "    def range(self, n=10):\n",
    "        return np.linspace(self.val-(3.*self.minus), self.val+(3.*self.plus), n)\n",
    "        \n",
    "    def gaussian(self):\n",
    "        sd = (self.plus+self.minus)/2.\n",
    "        return (\n",
    "            (1./(sd*np.sqrt(2.*np.pi))) * \n",
    "            np.exp(-0.5*(((self.range(n=100)-self.val)/sd)**2.))\n",
    "            )"
   ]
  },
  {
   "cell_type": "markdown",
   "id": "f95e6c56",
   "metadata": {},
   "source": [
    "# Parameters values\n",
    "\n",
    "Next we need to define the values and uncertainties of the parameters of interest. Here, we will explore uncertainties in source Fo#, melt Fe<sup>3+</sup>/$\\Sigma$Fe, and melt water content."
   ]
  },
  {
   "cell_type": "code",
   "execution_count": 3,
   "id": "da1b2f16",
   "metadata": {},
   "outputs": [],
   "source": [
    "src_FeIII_totFe = Parameter(0.17, 0.014, 0.014)\n",
    "src_Fo = Parameter(0.9, 0.005, 0.005)\n",
    "H2O = Parameter(1.376785, 0.04681069, 0.04681069)"
   ]
  },
  {
   "cell_type": "markdown",
   "id": "a8e8d6e7",
   "metadata": {},
   "source": [
    "# Basic run\n",
    "\n",
    "First we will do a simple run with the mean values of each parameter."
   ]
  },
  {
   "cell_type": "code",
   "execution_count": 4,
   "id": "d8616118",
   "metadata": {},
   "outputs": [
    {
     "name": "stderr",
     "output_type": "stream",
     "text": [
      "/home/mcnab/Melting/meltPT/meltPT/parse.py:79: UserWarning: Input csv does not contain a Fe2O3 column: we will try to fill it for you, or set it to zero.\n",
      "  warnings.warn(message)\n",
      "/home/mcnab/Melting/meltPT/meltPT/parse.py:79: UserWarning: Input csv does not contain a Cr2O3 column: we will try to fill it for you, or set it to zero.\n",
      "  warnings.warn(message)\n",
      "/home/mcnab/Melting/meltPT/meltPT/parse.py:79: UserWarning: Input csv does not contain a NiO column: we will try to fill it for you, or set it to zero.\n",
      "  warnings.warn(message)\n",
      "/home/mcnab/Melting/meltPT/meltPT/parse.py:79: UserWarning: Input csv does not contain a CoO column: we will try to fill it for you, or set it to zero.\n",
      "  warnings.warn(message)\n",
      "/home/mcnab/Melting/meltPT/meltPT/parse.py:79: UserWarning: Input csv does not contain a CO2 column: we will try to fill it for you, or set it to zero.\n",
      "  warnings.warn(message)\n",
      "/home/mcnab/Melting/meltPT/meltPT/parse.py:79: UserWarning: Input csv does not contain a FeO_tot column: we will try to fill it for you, or set it to zero.\n",
      "  warnings.warn(message)\n"
     ]
    }
   ],
   "source": [
    "# Set up the pyMeltmantle object\n",
    "lz = m.lithologies.katz.lherzolite()\n",
    "mantle = m.mantle([lz], [1], ['Lz'])\n",
    "\n",
    "# Do the basic analysis\n",
    "s = Suite(\n",
    "    \"../Data/PF16_UT09DV04.csv\", \n",
    "    src_FeIII_totFe=src_FeIII_totFe.val, \n",
    "    src_Fo=src_Fo.val)\n",
    "b = BacktrackOlivineFractionation(Kd=0.3)\n",
    "s.backtrack_compositions(backtracker=b)\n",
    "s.compute_pressure_temperature(method=\"PF16\")\n",
    "s.find_individual_potential_temperatures(mantle)"
   ]
  },
  {
   "cell_type": "markdown",
   "id": "fa932343",
   "metadata": {},
   "source": [
    "# Monte Carlo run\n",
    "\n",
    "Now we will redo this analysis 1000 times, selecting parameter values at random from the distributions defined above. Since the thermobarometric scheme itself also introduces some uncertainty, we also draw pressures and temperatures from distributions defined by the thermobarometric results and its uncertainty."
   ]
  },
  {
   "cell_type": "code",
   "execution_count": 5,
   "id": "6a627789",
   "metadata": {},
   "outputs": [
    {
     "name": "stdout",
     "output_type": "stream",
     "text": [
      "Working on iteration 99\r"
     ]
    }
   ],
   "source": [
    "# Create an empty list to store the resulting Suite objects\n",
    "suites = []\n",
    "\n",
    "# Start the iteration\n",
    "for i in range(100):\n",
    "    print(\"Working on iteration\", i, end='\\r')\n",
    "    \n",
    "    # Create a suite object with random values\n",
    "    si = Suite(\n",
    "        \"../Data/PF16_UT09DV04.csv\", \n",
    "        src_FeIII_totFe=src_FeIII_totFe.draw_normal(), \n",
    "        src_Fo=src_Fo.draw_normal())\n",
    "    \n",
    "    # Overwrite water content with random values\n",
    "    si.data.at[0, 'H2O'] = H2O.draw_normal()\n",
    "    \n",
    "    # Backtrack\n",
    "    si.backtrack_compositions(backtracker=b)\n",
    "    \n",
    "    # Compute pressures and temperatures\n",
    "    si.compute_pressure_temperature(method=\"PF16\")\n",
    "    \n",
    "    # Overwrite pressures and temperatures with random values\n",
    "    si.PT.at[0,'P'] = Parameter(si.PT.at[0,'P'], si.PT.at[0,'P_err'], si.PT.at[0,'P_err']).draw_normal()\n",
    "    si.PT.at[0,'T'] = Parameter(si.PT.at[0,'T'], si.PT.at[0,'T_err'], si.PT.at[0,'T_err']).draw_normal()\n",
    "    \n",
    "    # Perform Tp fit\n",
    "    si.find_individual_potential_temperatures(mantle)\n",
    "    \n",
    "    # Save result\n",
    "    suites.append(si)"
   ]
  },
  {
   "cell_type": "markdown",
   "id": "e44c2818",
   "metadata": {},
   "source": [
    "# Results\n",
    "\n",
    "Now let's have a look at our results, first of all checking the distributions of input parameters we ended up with."
   ]
  },
  {
   "cell_type": "code",
   "execution_count": 6,
   "id": "41a309b6",
   "metadata": {},
   "outputs": [
    {
     "data": {
      "image/png": "[encoded data removed]",
      "text/plain": [
       "<Figure size 432x288 with 3 Axes>"
      ]
     },
     "metadata": {
      "needs_background": "light"
     },
     "output_type": "display_data"
    }
   ],
   "source": [
    "# Set up subplots\n",
    "fig, axs = plt.subplots(1, 3, sharey=True)\n",
    "\n",
    "# Plot the histograms\n",
    "axs[0].hist([si.data.iloc[0]['src_Fo']*100 for si in suites])\n",
    "axs[1].hist([si.data.iloc[0]['src_FeIII_totFe'] for si in suites])\n",
    "axs[2].hist([si.data.iloc[0]['H2O'] for si in suites])\n",
    "\n",
    "# Axes labels\n",
    "axs[0].set_ylabel(\"Count\")\n",
    "axs[0].set_xlabel(\"Source Fo#\")\n",
    "axs[1].set_xlabel(r\"Fe$^{3+}$/$\\Sigma$Fe\")\n",
    "axs[2].set_xlabel(r\"H$_{2}$O [wt%]\")\n",
    "\n",
    "# Make them square\n",
    "for ax in axs:\n",
    "    ax.set_box_aspect(1)\n",
    "\n",
    "# Show\n",
    "plt.show()"
   ]
  },
  {
   "cell_type": "markdown",
   "id": "424c7b2d",
   "metadata": {},
   "source": [
    "Now let's look at the results in pressure-temperature space."
   ]
  },
  {
   "cell_type": "code",
   "execution_count": 7,
   "id": "e0ef6be0",
   "metadata": {},
   "outputs": [
    {
     "data": {
      "image/png": "[encoded data removed]",
      "text/plain": [
       "<Figure size 432x288 with 1 Axes>"
      ]
     },
     "metadata": {
      "needs_background": "light"
     },
     "output_type": "display_data"
    }
   ],
   "source": [
    "P = np.arange(1., 3.5, 0.01)\n",
    "plt.plot(lz.TSolidus(P), P, c=\"0.75\")\n",
    "plt.scatter(\n",
    "    [si.PT['T'].iloc[0] for si in suites], \n",
    "    [si.PT['P'].iloc[0] for si in suites], \n",
    "    s=1)\n",
    "plt.errorbar(s.PT['T'], s.PT['P'], xerr=s.PT['T_err'], yerr=s.PT['P_err'], marker=\"o\")\n",
    "plt.gca().invert_yaxis()\n",
    "plt.xlabel(r\"$T$ [$^\\circ$C]\")\n",
    "plt.ylabel(r\"$P$ [GPa]\")\n",
    "\n",
    "plt.show()"
   ]
  },
  {
   "cell_type": "markdown",
   "id": "d8bcbbbb",
   "metadata": {},
   "source": [
    "... and the distributions of pressure, temperature and potential temperature."
   ]
  },
  {
   "cell_type": "code",
   "execution_count": 8,
   "id": "538353b3",
   "metadata": {},
   "outputs": [
    {
     "data": {
      "image/png": "[encoded data removed]",
      "text/plain": [
       "<Figure size 432x288 with 3 Axes>"
      ]
     },
     "metadata": {
      "needs_background": "light"
     },
     "output_type": "display_data"
    }
   ],
   "source": [
    "# Set up subplots\n",
    "fig, axs = plt.subplots(1, 3, sharey=True)\n",
    "\n",
    "# Plot the histograms\n",
    "axs[0].hist([si.PT.iloc[0]['P'] for si in suites if not np.isnan(si.PT.iloc[0]['P'])])\n",
    "axs[1].hist([si.PT.iloc[0]['T'] for si in suites if not np.isnan(si.PT.iloc[0]['T'])])\n",
    "axs[2].hist([si.individual_potential_temperatures.iloc[0]['Tp'] for si in suites \n",
    "                 if not np.isnan(si.individual_potential_temperatures.iloc[0]['Tp'])])\n",
    "\n",
    "# Axes labels\n",
    "axs[0].set_ylabel(\"Count\")\n",
    "axs[0].set_xlabel(\"$P$ [GPa]\")\n",
    "axs[1].set_xlabel(r\"$T$ [$^\\circ$C]\")\n",
    "axs[2].set_xlabel(r\"$T_p$ [$^\\circ$C]\")\n",
    "\n",
    "# Make them square\n",
    "for ax in axs:\n",
    "    ax.set_box_aspect(1)\n",
    "\n",
    "# Show\n",
    "plt.show()"
   ]
  }
 ],
 "metadata": {
  "kernelspec": {
   "display_name": "Python 3 (ipykernel)",
   "language": "python",
   "name": "python3"
  },
  "language_info": {
   "codemirror_mode": {
    "name": "ipython",
    "version": 3
   },
   "file_extension": ".py",
   "mimetype": "text/x-python",
   "name": "python",
   "nbconvert_exporter": "python",
   "pygments_lexer": "ipython3",
   "version": "3.8.10"
  }
 },
 "nbformat": 4,
 "nbformat_minor": 5
}
