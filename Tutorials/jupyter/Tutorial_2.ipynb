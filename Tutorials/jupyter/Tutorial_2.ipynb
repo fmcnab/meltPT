{
 "cells": [
  {
   "cell_type": "markdown",
   "id": "ef3fe284",
   "metadata": {},
   "source": [
    "# Tutorial 2: MORBs\n",
    "\n",
    "In this tutorial, we will generate the data and plot Figure 2a-d\n",
    "of M$^\\text{c}$Nab and Ball, (2022), Volcanica (in submission).\n",
    "\n",
    "## Importing libraries\n",
    "\n",
    "Let's start by importing some libraries. If you have installed meltPT correctly, this should work!"
   ]
  },
  {
   "cell_type": "code",
   "execution_count": 1,
   "id": "adcbca7a",
   "metadata": {},
   "outputs": [],
   "source": [
    "from meltPT import *\n",
    "import pyMelt as m\n",
    "import matplotlib.pyplot as plt"
   ]
  },
  {
   "cell_type": "markdown",
   "id": "12a020e3",
   "metadata": {},
   "source": [
    "## Create Data for Figure 2a\n",
    "\n",
    "### Reading data and save to new csv\n",
    "\n",
    "First, we will read in a geochemical mid ocean ridge basalt (MORB) database from Gale et al., (2013), G3 14:3  (Gale_2013_MOR_Sample_Data.csv). This database does not include H2O estimates and we only want samples with recorded Ce concentrations (that we can convert into H2O estimates). We also filter the database to remove samples that are close to the Iceland hotspot (e.g., latitute $= 60 \\pm 5$). We then save this filtered database as ridge_in.csv"
   ]
  },
  {
   "cell_type": "code",
   "execution_count": 2,
   "id": "cb1b427f",
   "metadata": {},
   "outputs": [],
   "source": [
    "df = pd.read_csv(\"../Data/Gale_2013_MOR_Sample_Data.csv\", sep=',')\n",
    "df = df.loc[df['Ce']>0.]\n",
    "df = df.loc[(df['Latitude']>70.) | (df['Latitude']<60.)]\n",
    "df.to_csv(\"../Data/ridge_in.csv\", sep=',')"
   ]
  },
  {
   "cell_type": "markdown",
   "id": "0749ae43",
   "metadata": {},
   "source": [
    "### Initialising the Suite object\n",
    "\n",
    "Read in ridge_in.csv. Here we also choose important variables for later analysis. min_SiO2 and min_MgO set lower limits for acceptable SiO2 and MgO concentrations, respectively. Using min_MgO = 8.5 wt% ensures that samples have predominantly experienced olivine fractionation. min_SiO2 = 40 wt% ensures suitable samples for use with the Plank & Forsyth (2016) thermobarometer. src_FeIII_totFe sets the Fe$^{3+}$/$\\Sigma$Fe ratio of the melt and we take the value of 0.14 from Zhang et al., (2018, Chemical Geology, 479). src_Fo sets the target Fo# for composition backtracking. Ce_to_H2O sets how we estimate H$_{2}$O from Ce concentrations and we use the value of 200 from Yang et al., (2021), Nature Communications, 12."
   ]
  },
  {
   "cell_type": "code",
   "execution_count": 3,
   "id": "def3230c",
   "metadata": {},
   "outputs": [
    {
     "name": "stderr",
     "output_type": "stream",
     "text": [
      "/home/mcnab/Melting/meltPT/meltPT/parse.py:77: UserWarning: Input csv does not contain a Fe2O3 column: we will try to fill it for you, or set it to zero.\n",
      "  warnings.warn(message)\n",
      "/home/mcnab/Melting/meltPT/meltPT/parse.py:77: UserWarning: Input csv does not contain a Cr2O3 column: we will try to fill it for you, or set it to zero.\n",
      "  warnings.warn(message)\n",
      "/home/mcnab/Melting/meltPT/meltPT/parse.py:77: UserWarning: Input csv does not contain a NiO column: we will try to fill it for you, or set it to zero.\n",
      "  warnings.warn(message)\n",
      "/home/mcnab/Melting/meltPT/meltPT/parse.py:77: UserWarning: Input csv does not contain a CoO column: we will try to fill it for you, or set it to zero.\n",
      "  warnings.warn(message)\n",
      "/home/mcnab/Melting/meltPT/meltPT/parse.py:77: UserWarning: Input csv does not contain a CO2 column: we will try to fill it for you, or set it to zero.\n",
      "  warnings.warn(message)\n",
      "/home/mcnab/Melting/meltPT/meltPT/parse.py:77: UserWarning: Input csv does not contain a FeO_tot column: we will try to fill it for you, or set it to zero.\n",
      "  warnings.warn(message)\n"
     ]
    }
   ],
   "source": [
    "s = Suite(\"../Data/ridge_in.csv\", src_FeIII_totFe=0.14, src_Fo=0.9, Ce_to_H2O=200., min_MgO=8.5)"
   ]
  },
  {
   "cell_type": "markdown",
   "id": "716a5eb5",
   "metadata": {},
   "source": [
    "### Backtrack Compositions, Calculate PT and save to Ridge_output.csv\n",
    "\n",
    "See Tutorial 1 for complete explanation of these steps. The output includes a estimate of pressure and temperature for every eligible MORB sample for plotting in Figure 2a. The min_SiO2 flag rejects all samples with SiO$_{2}$ < 40 wt%. This value is chosen since the Plank and Forsyth thermobarometer is only calibrated for samples with SiO$_{2}$ > 40 wt%."
   ]
  },
  {
   "cell_type": "code",
   "execution_count": 4,
   "id": "3b2473c3",
   "metadata": {},
   "outputs": [
    {
     "name": "stderr",
     "output_type": "stream",
     "text": [
      "/home/mcnab/Melting/meltPT/meltPT/backtrack_compositions.py:221: UserWarning: ALV2883-1250: backtracking failed! Starting Fo above mantle Fo.\n",
      "  warnings.warn(message)\n",
      "/home/mcnab/Melting/meltPT/meltPT/backtrack_compositions.py:221: UserWarning: END0026-006-001: backtracking failed! Starting Fo above mantle Fo.\n",
      "  warnings.warn(message)\n",
      "/home/mcnab/Melting/meltPT/meltPT/backtrack_compositions.py:221: UserWarning: END0063-001-006: backtracking failed! Starting Fo above mantle Fo.\n",
      "  warnings.warn(message)\n",
      "/home/mcnab/Melting/meltPT/meltPT/backtrack_compositions.py:221: UserWarning: KNO0042-146-107: backtracking failed! Starting Fo above mantle Fo.\n",
      "  warnings.warn(message)\n",
      "/home/mcnab/Melting/meltPT/meltPT/backtrack_compositions.py:221: UserWarning: KNO0042-011-203: backtracking failed! Starting Fo above mantle Fo.\n",
      "  warnings.warn(message)\n",
      "/home/mcnab/Melting/meltPT/meltPT/backtrack_compositions.py:221: UserWarning: KNO0042-024-009: backtracking failed! Starting Fo above mantle Fo.\n",
      "  warnings.warn(message)\n",
      "/home/mcnab/Melting/meltPT/meltPT/backtrack_compositions.py:221: UserWarning: KNO0042-011-094: backtracking failed! Starting Fo above mantle Fo.\n",
      "  warnings.warn(message)\n"
     ]
    }
   ],
   "source": [
    "b = BacktrackOlivineFractionation()\n",
    "s.backtrack_compositions(backtracker=b)\n",
    "s.compute_pressure_temperature(min_SiO2=40.)"
   ]
  },
  {
   "cell_type": "markdown",
   "id": "0b0e6fb4",
   "metadata": {},
   "source": [
    "## Create Data for Figures 2b-d\n",
    "\n",
    "To make Figures 2b-d we need to estimate $T_{p}$ for each ridge in turn and then compare the results to geochemical and bathymetric data averaged across each ridge segment.\n",
    "\n",
    "### Read in ridge segment data\n",
    "\n",
    "Input ridge segment data from Gale et al (2014), Journal of Petrology 55:6 1051-1082. The database includes each ridge segment location, an estimate of primary composition (e.g., Na90) and ridge depth (Gale_2014_MOR_Segment_Data.csv)"
   ]
  },
  {
   "cell_type": "code",
   "execution_count": 5,
   "id": "f761ecb4",
   "metadata": {},
   "outputs": [
    {
     "name": "stderr",
     "output_type": "stream",
     "text": [
      "/home/mcnab/.local/lib/python3.8/site-packages/IPython/core/interactiveshell.py:3437: DtypeWarning: Columns (0,1,2,4,5,6,7,8,9,10,11,12,13,14,15,16,17,18,19,20,21,22,23,24,25,26,27,28,29,30,31,32,33,34,35,36,37,38,59) have mixed types.Specify dtype option on import or set low_memory=False.\n",
      "  exec(code_obj, self.user_global_ns, self.user_ns)\n"
     ]
    }
   ],
   "source": [
    "seg_data = pd.read_csv('../Data/Gale_2014_MOR_Segment_Data.csv', sep=',')"
   ]
  },
  {
   "cell_type": "markdown",
   "id": "2ca79d05",
   "metadata": {},
   "source": [
    "### Set up output pandas dataframe for writing results"
   ]
  },
  {
   "cell_type": "code",
   "execution_count": 6,
   "id": "d6e2b6c9",
   "metadata": {},
   "outputs": [],
   "source": [
    "df_out = pd.DataFrame(columns = ['Ridge', 'Longitude', 'Latitude', 'N_Samples', 'Tp', 'upper_Tp', 'lower_Tp'])"
   ]
  },
  {
   "cell_type": "markdown",
   "id": "40032eb2",
   "metadata": {},
   "source": [
    "### Set up mantle composition\n",
    "\n",
    "see Tutorial 1 for explanation"
   ]
  },
  {
   "cell_type": "code",
   "execution_count": 7,
   "id": "1ffdeeab",
   "metadata": {},
   "outputs": [],
   "source": [
    "lz = m.lithologies.katz.lherzolite()\n",
    "mantle = m.mantle([lz], [1], ['Lz'])\n",
    "P_sol = np.arange(0., 5., 0.1)\n",
    "T_sol = [lz.TSolidus(P) for P in P_sol]"
   ]
  },
  {
   "cell_type": "markdown",
   "id": "ae50d1ce",
   "metadata": {},
   "source": [
    "### Find Tp of each ridge segment\n",
    "\n",
    "Here we take each ridge segment in turn and use any available data to estimate potential temperature for that ridge segment. We then find the Na90 and ridge depth data and print Tp, Na90 and Ridge Depth to the output file. See Tutorial 1 for detailed explanation of Tp estimation procedure. This step may take several minutes depending on your computer."
   ]
  },
  {
   "cell_type": "code",
   "execution_count": 8,
   "id": "0be8ba14",
   "metadata": {},
   "outputs": [
    {
     "name": "stdout",
     "output_type": "stream",
     "text": [
      "Best-fitting melting model for Ridge EPRR29 : Tp = 1419 oC.\n",
      "Best-fitting melting model for Ridge GAKK10 : Tp = 1408 oC.\n",
      "Best-fitting melting model for Ridge GAKK15 : Tp = 1417 oC.\n",
      "Best-fitting melting model for Ridge GAKK7 : Tp = 1321 oC.\n",
      "Best-fitting melting model for Ridge GALA9 : Tp = 1537 oC.\n",
      "Best-fitting melting model for Ridge JUAN15 : Tp = 1418 oC.\n",
      "Best-fitting melting model for Ridge MARR116 : Tp = 1414 oC.\n",
      "Best-fitting melting model for Ridge MARR232 : Tp = 1509 oC.\n",
      "Best-fitting melting model for Ridge MARR236 : Tp = 1537 oC.\n",
      "Best-fitting melting model for Ridge MARR240 : Tp = 1485 oC.\n",
      "Best-fitting melting model for Ridge MARR247 : Tp = 1469 oC.\n",
      "Best-fitting melting model for Ridge MARR46 : Tp = 1568 oC.\n",
      "Best-fitting melting model for Ridge MARR88 : Tp = 1402 oC.\n",
      "Best-fitting melting model for Ridge MARR89 : Tp = 1427 oC.\n",
      "Best-fitting melting model for Ridge MARR95 : Tp = 1414 oC.\n"
     ]
    }
   ],
   "source": [
    "# Make array of all ridge segment names\n",
    "ridges = df['Province'].unique()\n",
    "\n",
    "for i in range(0, (len(ridges) - 1), 1):\n",
    "  \n",
    "    # print each ridge segment to own csv file\n",
    "    ridge_df = df.loc[(df['Province'] == ridges[i])]\n",
    "    ridge_df.to_csv('../Data/ridge.csv', index=False)\n",
    "\n",
    "    # Parse ridge segment data to s and filter for key criteria\n",
    "    s2 = Suite(\"../Data/ridge.csv\", Ce_to_H2O=200., src_FeIII_totFe=0.14, min_MgO=8.5)\n",
    "    \n",
    "    # Make sure ridge segment >5 data points\n",
    "    if len(s2.data['Province']) > 5:\n",
    "\n",
    "        # Find pressure and temperature of each sample\n",
    "        b = BacktrackOlivineFractionation()\n",
    "        s2.backtrack_compositions(backtracker=b)\n",
    "        s2.compute_pressure_temperature(min_SiO2=40.)  \n",
    "\n",
    "        # make sure ridge has >5 Tp estimates\n",
    "        if len(s2.PT['T']) > 5:\n",
    "\n",
    "            # Fit Tp to suite\n",
    "            s2.find_suite_potential_temperature(mantle, find_bounds=True)\n",
    "            print(\"Best-fitting melting model for Ridge\",ridges[i],\": Tp = %i oC.\" \n",
    "                  % (s2.potential_temperature))\n",
    "            \n",
    "            # Find Na90 and Ridge Depth data and errors\n",
    "            # If no data available add 0\n",
    "            seg = seg_data[seg_data['seg name'] == s2.data['Province'].iloc[0]]\n",
    "            if seg.empty:\n",
    "                Na90 = np.nan\n",
    "                R_Depth = np.nan\n",
    "                R_Depth_Err = np.nan\n",
    "            else:\n",
    "                Na90 = float(seg['Na90'].to_numpy()[0])\n",
    "                R_Depth = float(seg['mean depth'].to_numpy()[0])\n",
    "                R_Depth_Err = float(seg['minmax depth'].to_numpy()[0])\n",
    "            \n",
    "            \n",
    "            # ---- Output ridge segment data to df_out            \n",
    "            dict_result = {'Ridge' : [s2.data['Province'].iloc[0]],\n",
    "                            'Longitude' : [s2.data['Longitude'].mean()],\n",
    "                            'Latitude' : [s2.data['Latitude'].mean()],\n",
    "                            'N_Samples' : [len(s2.data['Latitude'])],\n",
    "                            'Tp' : [s2.potential_temperature],\n",
    "                            'upper_Tp' : [s2.upper_potential_temperature],\n",
    "                            'lower_Tp' : [s2.lower_potential_temperature],\n",
    "                            'Na90' : [Na90],\n",
    "                            'R_Depth' : [R_Depth],\n",
    "                            'R_Depth_Err' : [R_Depth_Err]}\n",
    "            \n",
    "            # ---- save output dictionary to pandas dataframe\n",
    "            df_result = pd.DataFrame.from_dict(dict_result)\n",
    "            \n",
    "            # ---- add df_result as new row in df_out\n",
    "            df_out = pd.concat([df_out, df_result], ignore_index = True)"
   ]
  },
  {
   "cell_type": "markdown",
   "id": "22ccdb08",
   "metadata": {},
   "source": [
    "Note that several samples return the warning \"backtracking failed! Starting Fo above mantle Fo\". These samples begin with Fo numbers greater than the target value and so are rejected. The program continues after excising these samples. \n",
    "\n",
    "## Plot Figure 2"
   ]
  },
  {
   "cell_type": "code",
   "execution_count": 9,
   "id": "733702d4",
   "metadata": {},
   "outputs": [
    {
     "data": {
      "image/png": "[encoded data removed]",
      "text/plain": [
       "<Figure size 432x288 with 4 Axes>"
      ]
     },
     "metadata": {
      "needs_background": "light"
     },
     "output_type": "display_data"
    }
   ],
   "source": [
    "# ---------------------\n",
    "# ---- Create Figure 2a of McNab & Ball (2022)\n",
    "# ---------------------\n",
    "\n",
    "# Make a multi-panelled figure (2x2)\n",
    "fig, ((ax1, ax2),(ax3, ax4)) = plt.subplots(2,2)\n",
    "\n",
    "# Plot temperature vs pressure results\n",
    "ax1.scatter(s.PT['T'], s.PT['P'], marker=\"o\", facecolors='none', \n",
    "            edgecolors='k', label=\"Sample\")\n",
    "\n",
    "# Organise and label axes\n",
    "ax1.set_xlabel(r\"Temperature [$^\\circ$C]\")\n",
    "ax1.set_ylabel(\"Pressure [GPa]\")\n",
    "ax1.text(0.05, 0.05, 'a', verticalalignment='bottom', \n",
    "         horizontalalignment='left', transform=ax1.transAxes, fontsize=12)\n",
    "ax1.invert_yaxis()\n",
    "ax1.xaxis.set_tick_params(top=True, labeltop=True, bottom=False, labelbottom=False)\n",
    "ax1.xaxis.set_label_position('top')\n",
    "\n",
    "# ---------------------\n",
    "# ---- Plot Figure 2b - A histogram of Tp results\n",
    "# ---------------------\n",
    "\n",
    "# Assign bins for histogram\n",
    "bin_array=[1300,1325,1350,1375,1400,1425,1450,1475,1500,1525,1550,1575]\n",
    "\n",
    "# Plot histogram of Tp\n",
    "ax2.hist(df_out['Tp'], bins=bin_array, histtype='bar', align='mid', orientation='vertical')\n",
    "\n",
    "# Organise axes\n",
    "ax2.set_xlabel(r\"Tp [$^\\circ$C]\")\n",
    "ax2.set_ylabel(\"Number of Ridges\")\n",
    "ax2.text(0.05, 0.95, 'b', verticalalignment='top', \n",
    "          horizontalalignment='left', transform=ax2.transAxes, fontsize=12)\n",
    "ax2.xaxis.set_label_position('top')\n",
    "ax2.xaxis.set_tick_params(top=True, labeltop=True, bottom=False, labelbottom=False)\n",
    "ax2.yaxis.set_label_position('right')\n",
    "ax2.yaxis.set_tick_params(right=True, labelright=True, left=False, labelleft=False)\n",
    "\n",
    "# ---------------------\n",
    "# ---- Create Figure 2c - Na90 as function of Tp\n",
    "# ---------------------\n",
    "\n",
    "# Plot data\n",
    "ax3.errorbar(df_out['Tp'], df_out['Na90'], xerr=(df_out['Tp']-df_out['lower_Tp'], df_out['upper_Tp']-df_out['Tp']), fmt=\"o\")\n",
    "\n",
    "# Organise axes\n",
    "ax3.set_xlabel(r\"Tp [$^\\circ$C]\")\n",
    "ax3.set_ylabel(\"Na$_{90}$ wt%\")\n",
    "ax3.text(0.05, 0.05, 'c', verticalalignment='bottom', \n",
    "          horizontalalignment='left', transform=ax3.transAxes, fontsize=12)\n",
    "\n",
    "# ---------------------\n",
    "# ---- Create Figure 2d - Ridge Depth as function of Tp\n",
    "# ---------------------\n",
    "\n",
    "# Plot data\n",
    "ax4.errorbar(df_out['Tp'], df_out['R_Depth']/-1000., xerr=(df_out['Tp']-df_out['lower_Tp'], df_out['upper_Tp']-df_out['Tp']), yerr=df_out['R_Depth_Err']/1000., fmt=\"o\")\n",
    "\n",
    "# Organise axes\n",
    "ax4.set_xlabel(r\"Tp [$^\\circ$C]\")\n",
    "ax4.set_ylabel(\"Ridge Depth [km]\")\n",
    "ax4.text(0.05, 0.05, 'd', verticalalignment='bottom', \n",
    "          horizontalalignment='left', transform=ax4.transAxes, fontsize=12)\n",
    "ax4.yaxis.set_label_position('right')\n",
    "ax4.yaxis.set_tick_params(right=True, labelright=True, left=False, labelleft=False)\n",
    "\n",
    "# ---------------------\n",
    "# Show Figure 2\n",
    "# ---------------------\n",
    "plt.show()\n",
    "\n"
   ]
  }
 ],
 "metadata": {
  "kernelspec": {
   "display_name": "Python 3 (ipykernel)",
   "language": "python",
   "name": "python3"
  },
  "language_info": {
   "codemirror_mode": {
    "name": "ipython",
    "version": 3
   },
   "file_extension": ".py",
   "mimetype": "text/x-python",
   "name": "python",
   "nbconvert_exporter": "python",
   "pygments_lexer": "ipython3",
   "version": "3.8.10"
  }
 },
 "nbformat": 4,
 "nbformat_minor": 5
}
